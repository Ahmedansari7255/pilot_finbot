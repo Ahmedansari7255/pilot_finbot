{
 "cells": [
  {
   "cell_type": "code",
   "execution_count": 4,
   "id": "52399037",
   "metadata": {
    "collapsed": true
   },
   "outputs": [
    {
     "name": "stdout",
     "output_type": "stream",
     "text": [
      "Requirement already satisfied: yfinance in c:\\users\\91878\\anaconda3\\lib\\site-packages (0.2.9)\n",
      "Requirement already satisfied: pytz>=2022.5 in c:\\users\\91878\\anaconda3\\lib\\site-packages (from yfinance) (2022.7.1)\n",
      "Requirement already satisfied: requests>=2.26 in c:\\users\\91878\\anaconda3\\lib\\site-packages (from yfinance) (2.27.1)\n",
      "Requirement already satisfied: beautifulsoup4>=4.11.1 in c:\\users\\91878\\anaconda3\\lib\\site-packages (from yfinance) (4.11.1)\n",
      "Requirement already satisfied: pandas>=1.3.0 in c:\\users\\91878\\anaconda3\\lib\\site-packages (from yfinance) (1.4.2)\n",
      "Requirement already satisfied: appdirs>=1.4.4 in c:\\users\\91878\\anaconda3\\lib\\site-packages (from yfinance) (1.4.4)\n",
      "Requirement already satisfied: cryptography>=3.3.2 in c:\\users\\91878\\anaconda3\\lib\\site-packages (from yfinance) (3.4.8)\n",
      "Requirement already satisfied: numpy>=1.16.5 in c:\\users\\91878\\anaconda3\\lib\\site-packages (from yfinance) (1.21.5)\n",
      "Requirement already satisfied: html5lib>=1.1 in c:\\users\\91878\\anaconda3\\lib\\site-packages (from yfinance) (1.1)\n",
      "Requirement already satisfied: lxml>=4.9.1 in c:\\users\\91878\\anaconda3\\lib\\site-packages (from yfinance) (4.9.2)\n",
      "Requirement already satisfied: frozendict>=2.3.4 in c:\\users\\91878\\anaconda3\\lib\\site-packages (from yfinance) (2.3.4)\n",
      "Requirement already satisfied: multitasking>=0.0.7 in c:\\users\\91878\\anaconda3\\lib\\site-packages (from yfinance) (0.0.11)\n",
      "Requirement already satisfied: soupsieve>1.2 in c:\\users\\91878\\anaconda3\\lib\\site-packages (from beautifulsoup4>=4.11.1->yfinance) (2.3.1)\n",
      "Requirement already satisfied: cffi>=1.12 in c:\\users\\91878\\anaconda3\\lib\\site-packages (from cryptography>=3.3.2->yfinance) (1.15.0)\n",
      "Requirement already satisfied: pycparser in c:\\users\\91878\\anaconda3\\lib\\site-packages (from cffi>=1.12->cryptography>=3.3.2->yfinance) (2.21)\n",
      "Requirement already satisfied: six>=1.9 in c:\\users\\91878\\anaconda3\\lib\\site-packages (from html5lib>=1.1->yfinance) (1.16.0)\n",
      "Requirement already satisfied: webencodings in c:\\users\\91878\\anaconda3\\lib\\site-packages (from html5lib>=1.1->yfinance) (0.5.1)\n",
      "Requirement already satisfied: python-dateutil>=2.8.1 in c:\\users\\91878\\anaconda3\\lib\\site-packages (from pandas>=1.3.0->yfinance) (2.8.2)\n",
      "Requirement already satisfied: urllib3<1.27,>=1.21.1 in c:\\users\\91878\\anaconda3\\lib\\site-packages (from requests>=2.26->yfinance) (1.26.9)\n",
      "Requirement already satisfied: charset-normalizer~=2.0.0 in c:\\users\\91878\\anaconda3\\lib\\site-packages (from requests>=2.26->yfinance) (2.0.4)\n",
      "Requirement already satisfied: certifi>=2017.4.17 in c:\\users\\91878\\anaconda3\\lib\\site-packages (from requests>=2.26->yfinance) (2021.10.8)\n",
      "Requirement already satisfied: idna<4,>=2.5 in c:\\users\\91878\\anaconda3\\lib\\site-packages (from requests>=2.26->yfinance) (3.3)\n"
     ]
    }
   ],
   "source": [
    "!pip install yfinance"
   ]
  },
  {
   "cell_type": "code",
   "execution_count": 5,
   "id": "1eb3cefd",
   "metadata": {},
   "outputs": [
    {
     "name": "stdout",
     "output_type": "stream",
     "text": [
      "[*********************100%***********************]  1 of 1 completed\n"
     ]
    },
    {
     "data": {
      "text/html": [
       "<div>\n",
       "<style scoped>\n",
       "    .dataframe tbody tr th:only-of-type {\n",
       "        vertical-align: middle;\n",
       "    }\n",
       "\n",
       "    .dataframe tbody tr th {\n",
       "        vertical-align: top;\n",
       "    }\n",
       "\n",
       "    .dataframe thead th {\n",
       "        text-align: right;\n",
       "    }\n",
       "</style>\n",
       "<table border=\"1\" class=\"dataframe\">\n",
       "  <thead>\n",
       "    <tr style=\"text-align: right;\">\n",
       "      <th></th>\n",
       "      <th>Open</th>\n",
       "      <th>High</th>\n",
       "      <th>Low</th>\n",
       "      <th>Close</th>\n",
       "      <th>Adj Close</th>\n",
       "      <th>Volume</th>\n",
       "    </tr>\n",
       "    <tr>\n",
       "      <th>Date</th>\n",
       "      <th></th>\n",
       "      <th></th>\n",
       "      <th></th>\n",
       "      <th></th>\n",
       "      <th></th>\n",
       "      <th></th>\n",
       "    </tr>\n",
       "  </thead>\n",
       "  <tbody>\n",
       "    <tr>\n",
       "      <th>2017-01-03 00:00:00-05:00</th>\n",
       "      <td>28.950001</td>\n",
       "      <td>29.082500</td>\n",
       "      <td>28.690001</td>\n",
       "      <td>29.037500</td>\n",
       "      <td>27.174755</td>\n",
       "      <td>115127600</td>\n",
       "    </tr>\n",
       "    <tr>\n",
       "      <th>2017-01-04 00:00:00-05:00</th>\n",
       "      <td>28.962500</td>\n",
       "      <td>29.127501</td>\n",
       "      <td>28.937500</td>\n",
       "      <td>29.004999</td>\n",
       "      <td>27.144341</td>\n",
       "      <td>84472400</td>\n",
       "    </tr>\n",
       "    <tr>\n",
       "      <th>2017-01-05 00:00:00-05:00</th>\n",
       "      <td>28.980000</td>\n",
       "      <td>29.215000</td>\n",
       "      <td>28.952499</td>\n",
       "      <td>29.152500</td>\n",
       "      <td>27.282381</td>\n",
       "      <td>88774400</td>\n",
       "    </tr>\n",
       "    <tr>\n",
       "      <th>2017-01-06 00:00:00-05:00</th>\n",
       "      <td>29.195000</td>\n",
       "      <td>29.540001</td>\n",
       "      <td>29.117500</td>\n",
       "      <td>29.477501</td>\n",
       "      <td>27.586523</td>\n",
       "      <td>127007600</td>\n",
       "    </tr>\n",
       "    <tr>\n",
       "      <th>2017-01-09 00:00:00-05:00</th>\n",
       "      <td>29.487499</td>\n",
       "      <td>29.857500</td>\n",
       "      <td>29.485001</td>\n",
       "      <td>29.747499</td>\n",
       "      <td>27.839205</td>\n",
       "      <td>134247600</td>\n",
       "    </tr>\n",
       "  </tbody>\n",
       "</table>\n",
       "</div>"
      ],
      "text/plain": [
       "                                Open       High        Low      Close  \\\n",
       "Date                                                                    \n",
       "2017-01-03 00:00:00-05:00  28.950001  29.082500  28.690001  29.037500   \n",
       "2017-01-04 00:00:00-05:00  28.962500  29.127501  28.937500  29.004999   \n",
       "2017-01-05 00:00:00-05:00  28.980000  29.215000  28.952499  29.152500   \n",
       "2017-01-06 00:00:00-05:00  29.195000  29.540001  29.117500  29.477501   \n",
       "2017-01-09 00:00:00-05:00  29.487499  29.857500  29.485001  29.747499   \n",
       "\n",
       "                           Adj Close     Volume  \n",
       "Date                                             \n",
       "2017-01-03 00:00:00-05:00  27.174755  115127600  \n",
       "2017-01-04 00:00:00-05:00  27.144341   84472400  \n",
       "2017-01-05 00:00:00-05:00  27.282381   88774400  \n",
       "2017-01-06 00:00:00-05:00  27.586523  127007600  \n",
       "2017-01-09 00:00:00-05:00  27.839205  134247600  "
      ]
     },
     "execution_count": 5,
     "metadata": {},
     "output_type": "execute_result"
    }
   ],
   "source": [
    "import yfinance as yf\n",
    "data = yf.download('AAPL', start=\"2017-01-01\", end=\"2017-04-30\")\n",
    "data.head()"
   ]
  },
  {
   "cell_type": "code",
   "execution_count": 6,
   "id": "4e2f5bdf",
   "metadata": {
    "collapsed": true
   },
   "outputs": [
    {
     "name": "stdout",
     "output_type": "stream",
     "text": [
      "Requirement already satisfied: pandas_datareader in c:\\users\\91878\\anaconda3\\lib\\site-packages (0.10.0)\n",
      "Requirement already satisfied: requests>=2.19.0 in c:\\users\\91878\\anaconda3\\lib\\site-packages (from pandas_datareader) (2.27.1)\n",
      "Requirement already satisfied: pandas>=0.23 in c:\\users\\91878\\anaconda3\\lib\\site-packages (from pandas_datareader) (1.4.2)\n",
      "Requirement already satisfied: lxml in c:\\users\\91878\\anaconda3\\lib\\site-packages (from pandas_datareader) (4.9.2)\n",
      "Requirement already satisfied: numpy>=1.18.5 in c:\\users\\91878\\anaconda3\\lib\\site-packages (from pandas>=0.23->pandas_datareader) (1.21.5)\n",
      "Requirement already satisfied: pytz>=2020.1 in c:\\users\\91878\\anaconda3\\lib\\site-packages (from pandas>=0.23->pandas_datareader) (2022.7.1)\n",
      "Requirement already satisfied: python-dateutil>=2.8.1 in c:\\users\\91878\\anaconda3\\lib\\site-packages (from pandas>=0.23->pandas_datareader) (2.8.2)\n",
      "Requirement already satisfied: six>=1.5 in c:\\users\\91878\\anaconda3\\lib\\site-packages (from python-dateutil>=2.8.1->pandas>=0.23->pandas_datareader) (1.16.0)\n",
      "Requirement already satisfied: urllib3<1.27,>=1.21.1 in c:\\users\\91878\\anaconda3\\lib\\site-packages (from requests>=2.19.0->pandas_datareader) (1.26.9)\n",
      "Requirement already satisfied: idna<4,>=2.5 in c:\\users\\91878\\anaconda3\\lib\\site-packages (from requests>=2.19.0->pandas_datareader) (3.3)\n",
      "Requirement already satisfied: charset-normalizer~=2.0.0 in c:\\users\\91878\\anaconda3\\lib\\site-packages (from requests>=2.19.0->pandas_datareader) (2.0.4)\n",
      "Requirement already satisfied: certifi>=2017.4.17 in c:\\users\\91878\\anaconda3\\lib\\site-packages (from requests>=2.19.0->pandas_datareader) (2021.10.8)\n"
     ]
    }
   ],
   "source": [
    "!pip install pandas_datareader"
   ]
  },
  {
   "cell_type": "code",
   "execution_count": 7,
   "id": "6dfaab78",
   "metadata": {},
   "outputs": [],
   "source": [
    "from datetime import datetime"
   ]
  },
  {
   "cell_type": "code",
   "execution_count": 8,
   "id": "c188834a",
   "metadata": {},
   "outputs": [],
   "source": [
    "start=datetime(2018,1,1)\n",
    "end=datetime(2019,1,1)"
   ]
  },
  {
   "cell_type": "code",
   "execution_count": 9,
   "id": "3d5ec5de",
   "metadata": {},
   "outputs": [
    {
     "name": "stdout",
     "output_type": "stream",
     "text": [
      "[*********************100%***********************]  1 of 1 completed\n"
     ]
    }
   ],
   "source": [
    "data=yf.download('MSFT',start,end)"
   ]
  },
  {
   "cell_type": "code",
   "execution_count": 10,
   "id": "1b253763",
   "metadata": {},
   "outputs": [
    {
     "data": {
      "text/html": [
       "<div>\n",
       "<style scoped>\n",
       "    .dataframe tbody tr th:only-of-type {\n",
       "        vertical-align: middle;\n",
       "    }\n",
       "\n",
       "    .dataframe tbody tr th {\n",
       "        vertical-align: top;\n",
       "    }\n",
       "\n",
       "    .dataframe thead th {\n",
       "        text-align: right;\n",
       "    }\n",
       "</style>\n",
       "<table border=\"1\" class=\"dataframe\">\n",
       "  <thead>\n",
       "    <tr style=\"text-align: right;\">\n",
       "      <th></th>\n",
       "      <th>Open</th>\n",
       "      <th>High</th>\n",
       "      <th>Low</th>\n",
       "      <th>Close</th>\n",
       "      <th>Adj Close</th>\n",
       "      <th>Volume</th>\n",
       "    </tr>\n",
       "    <tr>\n",
       "      <th>Date</th>\n",
       "      <th></th>\n",
       "      <th></th>\n",
       "      <th></th>\n",
       "      <th></th>\n",
       "      <th></th>\n",
       "      <th></th>\n",
       "    </tr>\n",
       "  </thead>\n",
       "  <tbody>\n",
       "    <tr>\n",
       "      <th>2018-01-02 00:00:00-05:00</th>\n",
       "      <td>86.129997</td>\n",
       "      <td>86.309998</td>\n",
       "      <td>85.500000</td>\n",
       "      <td>85.949997</td>\n",
       "      <td>80.940392</td>\n",
       "      <td>22483800</td>\n",
       "    </tr>\n",
       "    <tr>\n",
       "      <th>2018-01-03 00:00:00-05:00</th>\n",
       "      <td>86.059998</td>\n",
       "      <td>86.510002</td>\n",
       "      <td>85.970001</td>\n",
       "      <td>86.349998</td>\n",
       "      <td>81.317085</td>\n",
       "      <td>26061400</td>\n",
       "    </tr>\n",
       "    <tr>\n",
       "      <th>2018-01-04 00:00:00-05:00</th>\n",
       "      <td>86.589996</td>\n",
       "      <td>87.660004</td>\n",
       "      <td>86.570000</td>\n",
       "      <td>87.110001</td>\n",
       "      <td>82.032799</td>\n",
       "      <td>21912000</td>\n",
       "    </tr>\n",
       "    <tr>\n",
       "      <th>2018-01-05 00:00:00-05:00</th>\n",
       "      <td>87.660004</td>\n",
       "      <td>88.410004</td>\n",
       "      <td>87.430000</td>\n",
       "      <td>88.190002</td>\n",
       "      <td>83.049828</td>\n",
       "      <td>23407100</td>\n",
       "    </tr>\n",
       "    <tr>\n",
       "      <th>2018-01-08 00:00:00-05:00</th>\n",
       "      <td>88.199997</td>\n",
       "      <td>88.580002</td>\n",
       "      <td>87.599998</td>\n",
       "      <td>88.279999</td>\n",
       "      <td>83.134598</td>\n",
       "      <td>22113000</td>\n",
       "    </tr>\n",
       "  </tbody>\n",
       "</table>\n",
       "</div>"
      ],
      "text/plain": [
       "                                Open       High        Low      Close  \\\n",
       "Date                                                                    \n",
       "2018-01-02 00:00:00-05:00  86.129997  86.309998  85.500000  85.949997   \n",
       "2018-01-03 00:00:00-05:00  86.059998  86.510002  85.970001  86.349998   \n",
       "2018-01-04 00:00:00-05:00  86.589996  87.660004  86.570000  87.110001   \n",
       "2018-01-05 00:00:00-05:00  87.660004  88.410004  87.430000  88.190002   \n",
       "2018-01-08 00:00:00-05:00  88.199997  88.580002  87.599998  88.279999   \n",
       "\n",
       "                           Adj Close    Volume  \n",
       "Date                                            \n",
       "2018-01-02 00:00:00-05:00  80.940392  22483800  \n",
       "2018-01-03 00:00:00-05:00  81.317085  26061400  \n",
       "2018-01-04 00:00:00-05:00  82.032799  21912000  \n",
       "2018-01-05 00:00:00-05:00  83.049828  23407100  \n",
       "2018-01-08 00:00:00-05:00  83.134598  22113000  "
      ]
     },
     "execution_count": 10,
     "metadata": {},
     "output_type": "execute_result"
    }
   ],
   "source": [
    "data.head()"
   ]
  },
  {
   "cell_type": "code",
   "execution_count": 11,
   "id": "30434291",
   "metadata": {},
   "outputs": [
    {
     "data": {
      "text/html": [
       "<div>\n",
       "<style scoped>\n",
       "    .dataframe tbody tr th:only-of-type {\n",
       "        vertical-align: middle;\n",
       "    }\n",
       "\n",
       "    .dataframe tbody tr th {\n",
       "        vertical-align: top;\n",
       "    }\n",
       "\n",
       "    .dataframe thead th {\n",
       "        text-align: right;\n",
       "    }\n",
       "</style>\n",
       "<table border=\"1\" class=\"dataframe\">\n",
       "  <thead>\n",
       "    <tr style=\"text-align: right;\">\n",
       "      <th></th>\n",
       "      <th>Open</th>\n",
       "      <th>High</th>\n",
       "      <th>Low</th>\n",
       "      <th>Close</th>\n",
       "      <th>Adj Close</th>\n",
       "      <th>Volume</th>\n",
       "    </tr>\n",
       "    <tr>\n",
       "      <th>Date</th>\n",
       "      <th></th>\n",
       "      <th></th>\n",
       "      <th></th>\n",
       "      <th></th>\n",
       "      <th></th>\n",
       "      <th></th>\n",
       "    </tr>\n",
       "  </thead>\n",
       "  <tbody>\n",
       "    <tr>\n",
       "      <th>2018-12-24 00:00:00-05:00</th>\n",
       "      <td>97.680000</td>\n",
       "      <td>97.970001</td>\n",
       "      <td>93.980003</td>\n",
       "      <td>94.129997</td>\n",
       "      <td>90.178154</td>\n",
       "      <td>43935200</td>\n",
       "    </tr>\n",
       "    <tr>\n",
       "      <th>2018-12-26 00:00:00-05:00</th>\n",
       "      <td>95.139999</td>\n",
       "      <td>100.690002</td>\n",
       "      <td>93.959999</td>\n",
       "      <td>100.559998</td>\n",
       "      <td>96.338188</td>\n",
       "      <td>51634800</td>\n",
       "    </tr>\n",
       "    <tr>\n",
       "      <th>2018-12-27 00:00:00-05:00</th>\n",
       "      <td>99.300003</td>\n",
       "      <td>101.190002</td>\n",
       "      <td>96.400002</td>\n",
       "      <td>101.180000</td>\n",
       "      <td>96.932198</td>\n",
       "      <td>49498500</td>\n",
       "    </tr>\n",
       "    <tr>\n",
       "      <th>2018-12-28 00:00:00-05:00</th>\n",
       "      <td>102.089996</td>\n",
       "      <td>102.410004</td>\n",
       "      <td>99.519997</td>\n",
       "      <td>100.389999</td>\n",
       "      <td>96.175339</td>\n",
       "      <td>38196300</td>\n",
       "    </tr>\n",
       "    <tr>\n",
       "      <th>2018-12-31 00:00:00-05:00</th>\n",
       "      <td>101.290001</td>\n",
       "      <td>102.400002</td>\n",
       "      <td>100.440002</td>\n",
       "      <td>101.570000</td>\n",
       "      <td>97.305794</td>\n",
       "      <td>33173800</td>\n",
       "    </tr>\n",
       "  </tbody>\n",
       "</table>\n",
       "</div>"
      ],
      "text/plain": [
       "                                 Open        High         Low       Close  \\\n",
       "Date                                                                        \n",
       "2018-12-24 00:00:00-05:00   97.680000   97.970001   93.980003   94.129997   \n",
       "2018-12-26 00:00:00-05:00   95.139999  100.690002   93.959999  100.559998   \n",
       "2018-12-27 00:00:00-05:00   99.300003  101.190002   96.400002  101.180000   \n",
       "2018-12-28 00:00:00-05:00  102.089996  102.410004   99.519997  100.389999   \n",
       "2018-12-31 00:00:00-05:00  101.290001  102.400002  100.440002  101.570000   \n",
       "\n",
       "                           Adj Close    Volume  \n",
       "Date                                            \n",
       "2018-12-24 00:00:00-05:00  90.178154  43935200  \n",
       "2018-12-26 00:00:00-05:00  96.338188  51634800  \n",
       "2018-12-27 00:00:00-05:00  96.932198  49498500  \n",
       "2018-12-28 00:00:00-05:00  96.175339  38196300  \n",
       "2018-12-31 00:00:00-05:00  97.305794  33173800  "
      ]
     },
     "execution_count": 11,
     "metadata": {},
     "output_type": "execute_result"
    }
   ],
   "source": [
    "data.tail()"
   ]
  },
  {
   "cell_type": "code",
   "execution_count": 12,
   "id": "37030667",
   "metadata": {},
   "outputs": [],
   "source": [
    "import pandas as pd"
   ]
  },
  {
   "cell_type": "code",
   "execution_count": 13,
   "id": "9086b98b",
   "metadata": {
    "scrolled": true
   },
   "outputs": [],
   "source": [
    "infy = pd.read_csv(\"C:\\\\Users\\91878\\\\Downloads\\\\INFY.NS.csv\")"
   ]
  },
  {
   "cell_type": "code",
   "execution_count": 14,
   "id": "cb9c5a9e",
   "metadata": {},
   "outputs": [
    {
     "data": {
      "text/html": [
       "<div>\n",
       "<style scoped>\n",
       "    .dataframe tbody tr th:only-of-type {\n",
       "        vertical-align: middle;\n",
       "    }\n",
       "\n",
       "    .dataframe tbody tr th {\n",
       "        vertical-align: top;\n",
       "    }\n",
       "\n",
       "    .dataframe thead th {\n",
       "        text-align: right;\n",
       "    }\n",
       "</style>\n",
       "<table border=\"1\" class=\"dataframe\">\n",
       "  <thead>\n",
       "    <tr style=\"text-align: right;\">\n",
       "      <th></th>\n",
       "      <th>Date</th>\n",
       "      <th>Open</th>\n",
       "      <th>High</th>\n",
       "      <th>Low</th>\n",
       "      <th>Close</th>\n",
       "      <th>Adj Close</th>\n",
       "      <th>Volume</th>\n",
       "    </tr>\n",
       "  </thead>\n",
       "  <tbody>\n",
       "    <tr>\n",
       "      <th>0</th>\n",
       "      <td>2022-02-01</td>\n",
       "      <td>1766.099976</td>\n",
       "      <td>1780.000000</td>\n",
       "      <td>1734.699951</td>\n",
       "      <td>1772.050049</td>\n",
       "      <td>1734.524048</td>\n",
       "      <td>5119935.0</td>\n",
       "    </tr>\n",
       "    <tr>\n",
       "      <th>1</th>\n",
       "      <td>2022-02-02</td>\n",
       "      <td>1789.000000</td>\n",
       "      <td>1792.800049</td>\n",
       "      <td>1772.000000</td>\n",
       "      <td>1787.099976</td>\n",
       "      <td>1749.255249</td>\n",
       "      <td>4253717.0</td>\n",
       "    </tr>\n",
       "    <tr>\n",
       "      <th>2</th>\n",
       "      <td>2022-02-03</td>\n",
       "      <td>1779.000000</td>\n",
       "      <td>1779.000000</td>\n",
       "      <td>1734.000000</td>\n",
       "      <td>1738.550049</td>\n",
       "      <td>1701.733521</td>\n",
       "      <td>3832922.0</td>\n",
       "    </tr>\n",
       "    <tr>\n",
       "      <th>3</th>\n",
       "      <td>2022-02-04</td>\n",
       "      <td>1732.000000</td>\n",
       "      <td>1753.949951</td>\n",
       "      <td>1710.150024</td>\n",
       "      <td>1741.099976</td>\n",
       "      <td>1704.229370</td>\n",
       "      <td>4700077.0</td>\n",
       "    </tr>\n",
       "    <tr>\n",
       "      <th>4</th>\n",
       "      <td>2022-02-07</td>\n",
       "      <td>1722.199951</td>\n",
       "      <td>1732.000000</td>\n",
       "      <td>1695.400024</td>\n",
       "      <td>1715.000000</td>\n",
       "      <td>1678.682129</td>\n",
       "      <td>4310209.0</td>\n",
       "    </tr>\n",
       "  </tbody>\n",
       "</table>\n",
       "</div>"
      ],
      "text/plain": [
       "         Date         Open         High          Low        Close  \\\n",
       "0  2022-02-01  1766.099976  1780.000000  1734.699951  1772.050049   \n",
       "1  2022-02-02  1789.000000  1792.800049  1772.000000  1787.099976   \n",
       "2  2022-02-03  1779.000000  1779.000000  1734.000000  1738.550049   \n",
       "3  2022-02-04  1732.000000  1753.949951  1710.150024  1741.099976   \n",
       "4  2022-02-07  1722.199951  1732.000000  1695.400024  1715.000000   \n",
       "\n",
       "     Adj Close     Volume  \n",
       "0  1734.524048  5119935.0  \n",
       "1  1749.255249  4253717.0  \n",
       "2  1701.733521  3832922.0  \n",
       "3  1704.229370  4700077.0  \n",
       "4  1678.682129  4310209.0  "
      ]
     },
     "execution_count": 14,
     "metadata": {},
     "output_type": "execute_result"
    }
   ],
   "source": [
    "infy.head()"
   ]
  },
  {
   "cell_type": "code",
   "execution_count": 15,
   "id": "b3e4ec4c",
   "metadata": {},
   "outputs": [],
   "source": [
    "infy_close = infy[['Date','Close']]"
   ]
  },
  {
   "cell_type": "code",
   "execution_count": 16,
   "id": "4c3f25f6",
   "metadata": {},
   "outputs": [],
   "source": [
    "infy_close.set_index('Date', inplace=True)"
   ]
  },
  {
   "cell_type": "code",
   "execution_count": 17,
   "id": "d13aa4cc",
   "metadata": {},
   "outputs": [
    {
     "data": {
      "text/html": [
       "<div>\n",
       "<style scoped>\n",
       "    .dataframe tbody tr th:only-of-type {\n",
       "        vertical-align: middle;\n",
       "    }\n",
       "\n",
       "    .dataframe tbody tr th {\n",
       "        vertical-align: top;\n",
       "    }\n",
       "\n",
       "    .dataframe thead th {\n",
       "        text-align: right;\n",
       "    }\n",
       "</style>\n",
       "<table border=\"1\" class=\"dataframe\">\n",
       "  <thead>\n",
       "    <tr style=\"text-align: right;\">\n",
       "      <th></th>\n",
       "      <th>Close</th>\n",
       "    </tr>\n",
       "    <tr>\n",
       "      <th>Date</th>\n",
       "      <th></th>\n",
       "    </tr>\n",
       "  </thead>\n",
       "  <tbody>\n",
       "    <tr>\n",
       "      <th>2022-02-01</th>\n",
       "      <td>1772.050049</td>\n",
       "    </tr>\n",
       "    <tr>\n",
       "      <th>2022-02-02</th>\n",
       "      <td>1787.099976</td>\n",
       "    </tr>\n",
       "    <tr>\n",
       "      <th>2022-02-03</th>\n",
       "      <td>1738.550049</td>\n",
       "    </tr>\n",
       "    <tr>\n",
       "      <th>2022-02-04</th>\n",
       "      <td>1741.099976</td>\n",
       "    </tr>\n",
       "    <tr>\n",
       "      <th>2022-02-07</th>\n",
       "      <td>1715.000000</td>\n",
       "    </tr>\n",
       "    <tr>\n",
       "      <th>...</th>\n",
       "      <td>...</td>\n",
       "    </tr>\n",
       "    <tr>\n",
       "      <th>2023-01-25</th>\n",
       "      <td>1543.000000</td>\n",
       "    </tr>\n",
       "    <tr>\n",
       "      <th>2023-01-27</th>\n",
       "      <td>1519.150024</td>\n",
       "    </tr>\n",
       "    <tr>\n",
       "      <th>2023-01-30</th>\n",
       "      <td>1538.800049</td>\n",
       "    </tr>\n",
       "    <tr>\n",
       "      <th>2023-01-31</th>\n",
       "      <td>NaN</td>\n",
       "    </tr>\n",
       "    <tr>\n",
       "      <th>2023-02-01</th>\n",
       "      <td>1551.099976</td>\n",
       "    </tr>\n",
       "  </tbody>\n",
       "</table>\n",
       "<p>250 rows × 1 columns</p>\n",
       "</div>"
      ],
      "text/plain": [
       "                  Close\n",
       "Date                   \n",
       "2022-02-01  1772.050049\n",
       "2022-02-02  1787.099976\n",
       "2022-02-03  1738.550049\n",
       "2022-02-04  1741.099976\n",
       "2022-02-07  1715.000000\n",
       "...                 ...\n",
       "2023-01-25  1543.000000\n",
       "2023-01-27  1519.150024\n",
       "2023-01-30  1538.800049\n",
       "2023-01-31          NaN\n",
       "2023-02-01  1551.099976\n",
       "\n",
       "[250 rows x 1 columns]"
      ]
     },
     "execution_count": 17,
     "metadata": {},
     "output_type": "execute_result"
    }
   ],
   "source": [
    "infy_close"
   ]
  },
  {
   "cell_type": "code",
   "execution_count": 18,
   "id": "04df60b4",
   "metadata": {},
   "outputs": [
    {
     "data": {
      "image/png": "[encoded data removed]",
      "text/plain": [
       "<Figure size 432x288 with 1 Axes>"
      ]
     },
     "metadata": {
      "needs_background": "light"
     },
     "output_type": "display_data"
    }
   ],
   "source": [
    "import matplotlib.pyplot as plt\n",
    "%matplotlib inline\n",
    "\n",
    "plt.plot(infy_close)\n",
    "plt.show()"
   ]
  },
  {
   "cell_type": "code",
   "execution_count": 19,
   "id": "75af0a6f",
   "metadata": {},
   "outputs": [
    {
     "data": {
      "image/png": "[encoded data removed]",
      "text/plain": [
       "<Figure size 1008x360 with 1 Axes>"
      ]
     },
     "metadata": {
      "needs_background": "light"
     },
     "output_type": "display_data"
    }
   ],
   "source": [
    "import matplotlib.pyplot as plt\n",
    "%matplotlib inline\n",
    "\n",
    "plt.figure(figsize=(14, 5))\n",
    "\n",
    "plt.plot(infy_close, 'b')\n",
    "\n",
    "plt.plot(infy_close, 'ro')\n",
    "\n",
    "plt.grid(True)\n",
    "\n",
    "plt.title('Infosys Close Price Representation')\n",
    "\n",
    "plt.xlabel('Trading Days')\n",
    "\n",
    "plt.ylabel('Infosys Close Price')\n",
    "\n",
    "plt.show()"
   ]
  },
  {
   "cell_type": "markdown",
   "id": "0741e985",
   "metadata": {},
   "source": [
    "# scattered plots"
   ]
  },
  {
   "cell_type": "code",
   "execution_count": 20,
   "id": "1237c9cf",
   "metadata": {},
   "outputs": [
    {
     "data": {
      "image/png": "[encoded data removed]",
      "text/plain": [
       "<Figure size 504x360 with 1 Axes>"
      ]
     },
     "metadata": {
      "needs_background": "light"
     },
     "output_type": "display_data"
    }
   ],
   "source": [
    "import numpy as np\n",
    "\n",
    "y = np.random.standard_normal((100, 2)) \n",
    "\n",
    "plt.figure(figsize=(7, 5))\n",
    "\n",
    "plt.scatter(y[:, 0], y[:, 1], marker='o')\n",
    "\n",
    "plt.grid(True)\n",
    "plt.xlabel('1st dataset')\n",
    "plt.ylabel('2nd dataset')\n",
    "plt.title('Scatter Plot')\n",
    "plt.show()"
   ]
  },
  {
   "cell_type": "markdown",
   "id": "9adbe62e",
   "metadata": {},
   "source": [
    "# histogram"
   ]
  },
  {
   "cell_type": "code",
   "execution_count": 21,
   "id": "6ccbc3c5",
   "metadata": {},
   "outputs": [
    {
     "data": {
      "image/png": "[encoded data removed]",
      "text/plain": [
       "<Figure size 720x360 with 1 Axes>"
      ]
     },
     "metadata": {
      "needs_background": "light"
     },
     "output_type": "display_data"
    }
   ],
   "source": [
    "np.random.seed(100)\n",
    "y = np.random.standard_normal(size=1000)\n",
    "\n",
    "plt.figure(figsize=(10, 5))\n",
    "\n",
    "plt.hist(y, label=['Returns Distribution'])\n",
    "\n",
    "plt.grid(True)\n",
    "plt.legend(loc=0)\n",
    "plt.ylabel('Frequency')\n",
    "plt.xlabel('Returns in Percentage')\n",
    "plt.title('Histogram')\n",
    "plt.show()"
   ]
  },
  {
   "cell_type": "markdown",
   "id": "fb078a42",
   "metadata": {},
   "source": [
    "# candlestick"
   ]
  },
  {
   "cell_type": "code",
   "execution_count": 33,
   "id": "68b3c32b",
   "metadata": {},
   "outputs": [],
   "source": [
    "df = pd.read_csv(\"C:\\\\Users\\\\91878\\\\Downloads\\\\Download Data - INDEX_US_S&P US_SPX.csv\")"
   ]
  },
  {
   "cell_type": "code",
   "execution_count": 34,
   "id": "5f7a65a9",
   "metadata": {},
   "outputs": [
    {
     "data": {
      "text/html": [
       "<div>\n",
       "<style scoped>\n",
       "    .dataframe tbody tr th:only-of-type {\n",
       "        vertical-align: middle;\n",
       "    }\n",
       "\n",
       "    .dataframe tbody tr th {\n",
       "        vertical-align: top;\n",
       "    }\n",
       "\n",
       "    .dataframe thead th {\n",
       "        text-align: right;\n",
       "    }\n",
       "</style>\n",
       "<table border=\"1\" class=\"dataframe\">\n",
       "  <thead>\n",
       "    <tr style=\"text-align: right;\">\n",
       "      <th></th>\n",
       "      <th>Date</th>\n",
       "      <th>Open</th>\n",
       "      <th>High</th>\n",
       "      <th>Low</th>\n",
       "      <th>Close</th>\n",
       "    </tr>\n",
       "  </thead>\n",
       "  <tbody>\n",
       "    <tr>\n",
       "      <th>0</th>\n",
       "      <td>02/01/2023</td>\n",
       "      <td>4,070.07</td>\n",
       "      <td>4,148.95</td>\n",
       "      <td>4,037.20</td>\n",
       "      <td>4,119.21</td>\n",
       "    </tr>\n",
       "    <tr>\n",
       "      <th>1</th>\n",
       "      <td>01/31/2023</td>\n",
       "      <td>4,020.85</td>\n",
       "      <td>4,077.16</td>\n",
       "      <td>4,020.44</td>\n",
       "      <td>4,076.60</td>\n",
       "    </tr>\n",
       "    <tr>\n",
       "      <th>2</th>\n",
       "      <td>01/30/2023</td>\n",
       "      <td>4,049.27</td>\n",
       "      <td>4,063.85</td>\n",
       "      <td>4,015.55</td>\n",
       "      <td>4,017.77</td>\n",
       "    </tr>\n",
       "    <tr>\n",
       "      <th>3</th>\n",
       "      <td>01/27/2023</td>\n",
       "      <td>4,053.72</td>\n",
       "      <td>4,094.21</td>\n",
       "      <td>4,048.70</td>\n",
       "      <td>4,070.56</td>\n",
       "    </tr>\n",
       "    <tr>\n",
       "      <th>4</th>\n",
       "      <td>01/26/2023</td>\n",
       "      <td>4,036.08</td>\n",
       "      <td>4,061.57</td>\n",
       "      <td>4,013.29</td>\n",
       "      <td>4,060.43</td>\n",
       "    </tr>\n",
       "  </tbody>\n",
       "</table>\n",
       "</div>"
      ],
      "text/plain": [
       "         Date      Open      High       Low     Close\n",
       "0  02/01/2023  4,070.07  4,148.95  4,037.20  4,119.21\n",
       "1  01/31/2023  4,020.85  4,077.16  4,020.44  4,076.60\n",
       "2  01/30/2023  4,049.27  4,063.85  4,015.55  4,017.77\n",
       "3  01/27/2023  4,053.72  4,094.21  4,048.70  4,070.56\n",
       "4  01/26/2023  4,036.08  4,061.57  4,013.29  4,060.43"
      ]
     },
     "execution_count": 34,
     "metadata": {},
     "output_type": "execute_result"
    }
   ],
   "source": [
    "df.head()"
   ]
  },
  {
   "cell_type": "code",
   "execution_count": 35,
   "id": "a73e3994",
   "metadata": {},
   "outputs": [],
   "source": [
    "import matplotlib.pyplot as plt"
   ]
  },
  {
   "cell_type": "code",
   "execution_count": 36,
   "id": "e313bfec",
   "metadata": {},
   "outputs": [],
   "source": [
    "from bokeh.plotting import figure, show, output_file"
   ]
  },
  {
   "cell_type": "code",
   "execution_count": 37,
   "id": "465a26f4",
   "metadata": {},
   "outputs": [],
   "source": [
    "import pandas as pd\n",
    "w = 12*60*60*1000  \n",
    "df.index = pd.to_datetime(df.index)"
   ]
  },
  {
   "cell_type": "code",
   "execution_count": 38,
   "id": "7e693af4",
   "metadata": {},
   "outputs": [],
   "source": [
    "inc = df.Close > df.Open\n",
    "dec = df.Open > df.Close"
   ]
  },
  {
   "cell_type": "code",
   "execution_count": 39,
   "id": "3dde9697",
   "metadata": {},
   "outputs": [],
   "source": [
    "TOOLS = \"pan,wheel_zoom,box_zoom,reset,save\""
   ]
  },
  {
   "cell_type": "code",
   "execution_count": 40,
   "id": "5b202bfd",
   "metadata": {},
   "outputs": [],
   "source": [
    "p = figure(x_axis_type=\"datetime\", tools=TOOLS,\n",
    "           plot_width=1000, title=\"SPY Candlestick\")"
   ]
  },
  {
   "cell_type": "code",
   "execution_count": 41,
   "id": "ea3862ae",
   "metadata": {},
   "outputs": [],
   "source": [
    "from math import pi\n",
    "p.xaxis.major_label_orientation = pi/4"
   ]
  },
  {
   "cell_type": "code",
   "execution_count": 42,
   "id": "513184e6",
   "metadata": {},
   "outputs": [],
   "source": [
    "p.grid.grid_line_alpha = 0.3"
   ]
  },
  {
   "cell_type": "code",
   "execution_count": 43,
   "id": "08ad6979",
   "metadata": {},
   "outputs": [
    {
     "data": {
      "text/html": [
       "<div style=\"display: table;\"><div style=\"display: table-row;\"><div style=\"display: table-cell;\"><b title=\"bokeh.models.renderers.GlyphRenderer\">GlyphRenderer</b>(</div><div style=\"display: table-cell;\">id&nbsp;=&nbsp;'1037', <span id=\"1040\" style=\"cursor: pointer;\">&hellip;)</span></div></div><div class=\"1039\" style=\"display: none;\"><div style=\"display: table-cell;\"></div><div style=\"display: table-cell;\">coordinates&nbsp;=&nbsp;None,</div></div><div class=\"1039\" style=\"display: none;\"><div style=\"display: table-cell;\"></div><div style=\"display: table-cell;\">data_source&nbsp;=&nbsp;ColumnDataSource(id='1033', ...),</div></div><div class=\"1039\" style=\"display: none;\"><div style=\"display: table-cell;\"></div><div style=\"display: table-cell;\">glyph&nbsp;=&nbsp;Segment(id='1034', ...),</div></div><div class=\"1039\" style=\"display: none;\"><div style=\"display: table-cell;\"></div><div style=\"display: table-cell;\">group&nbsp;=&nbsp;None,</div></div><div class=\"1039\" style=\"display: none;\"><div style=\"display: table-cell;\"></div><div style=\"display: table-cell;\">hover_glyph&nbsp;=&nbsp;None,</div></div><div class=\"1039\" style=\"display: none;\"><div style=\"display: table-cell;\"></div><div style=\"display: table-cell;\">js_event_callbacks&nbsp;=&nbsp;{},</div></div><div class=\"1039\" style=\"display: none;\"><div style=\"display: table-cell;\"></div><div style=\"display: table-cell;\">js_property_callbacks&nbsp;=&nbsp;{},</div></div><div class=\"1039\" style=\"display: none;\"><div style=\"display: table-cell;\"></div><div style=\"display: table-cell;\">level&nbsp;=&nbsp;'glyph',</div></div><div class=\"1039\" style=\"display: none;\"><div style=\"display: table-cell;\"></div><div style=\"display: table-cell;\">muted&nbsp;=&nbsp;False,</div></div><div class=\"1039\" style=\"display: none;\"><div style=\"display: table-cell;\"></div><div style=\"display: table-cell;\">muted_glyph&nbsp;=&nbsp;Segment(id='1036', ...),</div></div><div class=\"1039\" style=\"display: none;\"><div style=\"display: table-cell;\"></div><div style=\"display: table-cell;\">name&nbsp;=&nbsp;None,</div></div><div class=\"1039\" style=\"display: none;\"><div style=\"display: table-cell;\"></div><div style=\"display: table-cell;\">nonselection_glyph&nbsp;=&nbsp;Segment(id='1035', ...),</div></div><div class=\"1039\" style=\"display: none;\"><div style=\"display: table-cell;\"></div><div style=\"display: table-cell;\">selection_glyph&nbsp;=&nbsp;'auto',</div></div><div class=\"1039\" style=\"display: none;\"><div style=\"display: table-cell;\"></div><div style=\"display: table-cell;\">subscribed_events&nbsp;=&nbsp;[],</div></div><div class=\"1039\" style=\"display: none;\"><div style=\"display: table-cell;\"></div><div style=\"display: table-cell;\">syncable&nbsp;=&nbsp;True,</div></div><div class=\"1039\" style=\"display: none;\"><div style=\"display: table-cell;\"></div><div style=\"display: table-cell;\">tags&nbsp;=&nbsp;[],</div></div><div class=\"1039\" style=\"display: none;\"><div style=\"display: table-cell;\"></div><div style=\"display: table-cell;\">view&nbsp;=&nbsp;CDSView(id='1038', ...),</div></div><div class=\"1039\" style=\"display: none;\"><div style=\"display: table-cell;\"></div><div style=\"display: table-cell;\">visible&nbsp;=&nbsp;True,</div></div><div class=\"1039\" style=\"display: none;\"><div style=\"display: table-cell;\"></div><div style=\"display: table-cell;\">x_range_name&nbsp;=&nbsp;'default',</div></div><div class=\"1039\" style=\"display: none;\"><div style=\"display: table-cell;\"></div><div style=\"display: table-cell;\">y_range_name&nbsp;=&nbsp;'default')</div></div></div>\n",
       "<script>\n",
       "(function() {\n",
       "  let expanded = false;\n",
       "  const ellipsis = document.getElementById(\"1040\");\n",
       "  ellipsis.addEventListener(\"click\", function() {\n",
       "    const rows = document.getElementsByClassName(\"1039\");\n",
       "    for (let i = 0; i < rows.length; i++) {\n",
       "      const el = rows[i];\n",
       "      el.style.display = expanded ? \"none\" : \"table-row\";\n",
       "    }\n",
       "    ellipsis.innerHTML = expanded ? \"&hellip;)\" : \"&lsaquo;&lsaquo;&lsaquo;\";\n",
       "    expanded = !expanded;\n",
       "  });\n",
       "})();\n",
       "</script>\n"
      ],
      "text/plain": [
       "GlyphRenderer(id='1037', ...)"
      ]
     },
     "execution_count": 43,
     "metadata": {},
     "output_type": "execute_result"
    }
   ],
   "source": [
    "p.segment(df.index, df.High, df.index, df.Low, color=\"red\")"
   ]
  },
  {
   "cell_type": "code",
   "execution_count": 46,
   "id": "e8e0aedb",
   "metadata": {},
   "outputs": [
    {
     "data": {
      "text/html": [
       "<div style=\"display: table;\"><div style=\"display: table-row;\"><div style=\"display: table-cell;\"><b title=\"bokeh.models.renderers.GlyphRenderer\">GlyphRenderer</b>(</div><div style=\"display: table-cell;\">id&nbsp;=&nbsp;'1065', <span id=\"1068\" style=\"cursor: pointer;\">&hellip;)</span></div></div><div class=\"1067\" style=\"display: none;\"><div style=\"display: table-cell;\"></div><div style=\"display: table-cell;\">coordinates&nbsp;=&nbsp;None,</div></div><div class=\"1067\" style=\"display: none;\"><div style=\"display: table-cell;\"></div><div style=\"display: table-cell;\">data_source&nbsp;=&nbsp;ColumnDataSource(id='1061', ...),</div></div><div class=\"1067\" style=\"display: none;\"><div style=\"display: table-cell;\"></div><div style=\"display: table-cell;\">glyph&nbsp;=&nbsp;VBar(id='1062', ...),</div></div><div class=\"1067\" style=\"display: none;\"><div style=\"display: table-cell;\"></div><div style=\"display: table-cell;\">group&nbsp;=&nbsp;None,</div></div><div class=\"1067\" style=\"display: none;\"><div style=\"display: table-cell;\"></div><div style=\"display: table-cell;\">hover_glyph&nbsp;=&nbsp;None,</div></div><div class=\"1067\" style=\"display: none;\"><div style=\"display: table-cell;\"></div><div style=\"display: table-cell;\">js_event_callbacks&nbsp;=&nbsp;{},</div></div><div class=\"1067\" style=\"display: none;\"><div style=\"display: table-cell;\"></div><div style=\"display: table-cell;\">js_property_callbacks&nbsp;=&nbsp;{},</div></div><div class=\"1067\" style=\"display: none;\"><div style=\"display: table-cell;\"></div><div style=\"display: table-cell;\">level&nbsp;=&nbsp;'glyph',</div></div><div class=\"1067\" style=\"display: none;\"><div style=\"display: table-cell;\"></div><div style=\"display: table-cell;\">muted&nbsp;=&nbsp;False,</div></div><div class=\"1067\" style=\"display: none;\"><div style=\"display: table-cell;\"></div><div style=\"display: table-cell;\">muted_glyph&nbsp;=&nbsp;VBar(id='1064', ...),</div></div><div class=\"1067\" style=\"display: none;\"><div style=\"display: table-cell;\"></div><div style=\"display: table-cell;\">name&nbsp;=&nbsp;None,</div></div><div class=\"1067\" style=\"display: none;\"><div style=\"display: table-cell;\"></div><div style=\"display: table-cell;\">nonselection_glyph&nbsp;=&nbsp;VBar(id='1063', ...),</div></div><div class=\"1067\" style=\"display: none;\"><div style=\"display: table-cell;\"></div><div style=\"display: table-cell;\">selection_glyph&nbsp;=&nbsp;'auto',</div></div><div class=\"1067\" style=\"display: none;\"><div style=\"display: table-cell;\"></div><div style=\"display: table-cell;\">subscribed_events&nbsp;=&nbsp;[],</div></div><div class=\"1067\" style=\"display: none;\"><div style=\"display: table-cell;\"></div><div style=\"display: table-cell;\">syncable&nbsp;=&nbsp;True,</div></div><div class=\"1067\" style=\"display: none;\"><div style=\"display: table-cell;\"></div><div style=\"display: table-cell;\">tags&nbsp;=&nbsp;[],</div></div><div class=\"1067\" style=\"display: none;\"><div style=\"display: table-cell;\"></div><div style=\"display: table-cell;\">view&nbsp;=&nbsp;CDSView(id='1066', ...),</div></div><div class=\"1067\" style=\"display: none;\"><div style=\"display: table-cell;\"></div><div style=\"display: table-cell;\">visible&nbsp;=&nbsp;True,</div></div><div class=\"1067\" style=\"display: none;\"><div style=\"display: table-cell;\"></div><div style=\"display: table-cell;\">x_range_name&nbsp;=&nbsp;'default',</div></div><div class=\"1067\" style=\"display: none;\"><div style=\"display: table-cell;\"></div><div style=\"display: table-cell;\">y_range_name&nbsp;=&nbsp;'default')</div></div></div>\n",
       "<script>\n",
       "(function() {\n",
       "  let expanded = false;\n",
       "  const ellipsis = document.getElementById(\"1068\");\n",
       "  ellipsis.addEventListener(\"click\", function() {\n",
       "    const rows = document.getElementsByClassName(\"1067\");\n",
       "    for (let i = 0; i < rows.length; i++) {\n",
       "      const el = rows[i];\n",
       "      el.style.display = expanded ? \"none\" : \"table-row\";\n",
       "    }\n",
       "    ellipsis.innerHTML = expanded ? \"&hellip;)\" : \"&lsaquo;&lsaquo;&lsaquo;\";\n",
       "    expanded = !expanded;\n",
       "  });\n",
       "})();\n",
       "</script>\n"
      ],
      "text/plain": [
       "GlyphRenderer(id='1065', ...)"
      ]
     },
     "execution_count": 46,
     "metadata": {},
     "output_type": "execute_result"
    }
   ],
   "source": [
    "p.vbar(df.index[inc], w, df.Open[inc], df.Close[inc],\n",
    "fill_color=\"#1ED837\", line_color=\"black\")\n",
    "p.vbar(df.index[dec], w, df.Open[dec], df.Close[dec],\n",
    "fill_color=\"#F2583E\", line_color=\"black\")"
   ]
  },
  {
   "cell_type": "code",
   "execution_count": 47,
   "id": "aa1e4921",
   "metadata": {},
   "outputs": [],
   "source": [
    "output_file(\"candlestick.html\", title=\"candlestick.py example\")"
   ]
  },
  {
   "cell_type": "code",
   "execution_count": 48,
   "id": "e46f3935",
   "metadata": {},
   "outputs": [],
   "source": [
    "show(p)"
   ]
  },
  {
   "cell_type": "code",
   "execution_count": 49,
   "id": "95402598",
   "metadata": {},
   "outputs": [
    {
     "data": {
      "text/html": [
       "\n",
       "\n",
       "\n",
       "\n",
       "<!DOCTYPE html>\n",
       "<html lang=\"en\">\n",
       "  \n",
       "  <head>\n",
       "    \n",
       "      <meta charset=\"utf-8\">\n",
       "      <title>candlestick.py example</title>\n",
       "      \n",
       "      \n",
       "        \n",
       "          \n",
       "        \n",
       "        \n",
       "          \n",
       "        <script type=\"text/javascript\" src=\"https://cdn.bokeh.org/bokeh/release/bokeh-2.4.2.min.js\"></script>\n",
       "        <script type=\"text/javascript\">\n",
       "            Bokeh.set_log_level(\"info\");\n",
       "        </script>\n",
       "        \n",
       "      \n",
       "      \n",
       "    \n",
       "  </head>\n",
       "  \n",
       "  \n",
       "  <body>\n",
       "    \n",
       "      \n",
       "        \n",
       "          \n",
       "          \n",
       "            \n",
       "              <div class=\"bk-root\" id=\"2154677a-68d8-463b-b469-598371070e73\" data-root-id=\"1002\"></div>\n",
       "            \n",
       "          \n",
       "        \n",
       "      \n",
       "      \n",
       "        <script type=\"application/json\" id=\"1459\">\n",
       "          {\"b7af09c5-80e6-42c5-bca0-6c6487f92e9e\":{\"defs\":[],\"roots\":{\"references\":[{\"attributes\":{},\"id\":\"1024\",\"type\":\"ResetTool\"},{\"attributes\":{\"coordinates\":null,\"data_source\":{\"id\":\"1033\"},\"glyph\":{\"id\":\"1034\"},\"group\":null,\"hover_glyph\":null,\"muted_glyph\":{\"id\":\"1036\"},\"nonselection_glyph\":{\"id\":\"1035\"},\"view\":{\"id\":\"1038\"}},\"id\":\"1037\",\"type\":\"GlyphRenderer\"},{\"attributes\":{\"line_color\":{\"value\":\"red\"},\"x0\":{\"field\":\"x0\"},\"x1\":{\"field\":\"x1\"},\"y0\":{\"field\":\"y0\"},\"y1\":{\"field\":\"y1\"}},\"id\":\"1034\",\"type\":\"Segment\"},{\"attributes\":{\"coordinates\":null,\"data_source\":{\"id\":\"1041\"},\"glyph\":{\"id\":\"1042\"},\"group\":null,\"hover_glyph\":null,\"muted_glyph\":{\"id\":\"1044\"},\"nonselection_glyph\":{\"id\":\"1043\"},\"view\":{\"id\":\"1046\"}},\"id\":\"1045\",\"type\":\"GlyphRenderer\"},{\"attributes\":{\"overlay\":{\"id\":\"1026\"}},\"id\":\"1023\",\"type\":\"BoxZoomTool\"},{\"attributes\":{\"source\":{\"id\":\"1041\"}},\"id\":\"1046\",\"type\":\"CDSView\"},{\"attributes\":{\"mantissas\":[1,2,5],\"max_interval\":500.0,\"num_minor_ticks\":0},\"id\":\"1087\",\"type\":\"AdaptiveTicker\"},{\"attributes\":{},\"id\":\"1005\",\"type\":\"DataRange1d\"},{\"attributes\":{\"data\":{\"bottom\":[\"4,119.21\",\"4,076.60\",\"4,070.56\",\"4,060.43\",\"4,016.22\",\"4,016.95\",\"4,019.81\",\"3,972.61\",\"3,999.09\",\"3,983.17\",\"3,969.61\",\"3,919.25\",\"3,895.08\",\"3,852.97\"],\"top\":[\"4,070.07\",\"4,020.85\",\"4,053.72\",\"4,036.08\",\"3,982.71\",\"4,001.74\",\"3,978.14\",\"3,909.04\",\"3,960.32\",\"3,977.57\",\"3,932.35\",\"3,888.57\",\"3,823.37\",\"3,840.36\"],\"x\":{\"__ndarray__\":\"AAAAAAAAAAAAAAAAAAAAAAAAAAAAAAAAAAAAAAAAAAAAAAAAAAAAAAAAAAAAAAAAAAAAAAAAAAAAAAAAAAAAAAAAAAAAAAAAAAAAAAAAAAAAAAAAAAAAAAAAAAAAAAAAAAAAAAAAAAAAAAAAAAAAAA==\",\"dtype\":\"float64\",\"order\":\"little\",\"shape\":[14]}},\"selected\":{\"id\":\"1079\"},\"selection_policy\":{\"id\":\"1078\"}},\"id\":\"1041\",\"type\":\"ColumnDataSource\"},{\"attributes\":{\"coordinates\":null,\"group\":null,\"text\":\"SPY Candlestick\"},\"id\":\"1003\",\"type\":\"Title\"},{\"attributes\":{\"bottom\":{\"field\":\"bottom\"},\"fill_color\":{\"value\":\"#1ED837\"},\"top\":{\"field\":\"top\"},\"width\":{\"value\":43200000},\"x\":{\"field\":\"x\"}},\"id\":\"1042\",\"type\":\"VBar\"},{\"attributes\":{\"bottom\":{\"field\":\"bottom\"},\"fill_alpha\":{\"value\":0.1},\"fill_color\":{\"value\":\"#F2583E\"},\"hatch_alpha\":{\"value\":0.1},\"line_alpha\":{\"value\":0.1},\"top\":{\"field\":\"top\"},\"width\":{\"value\":43200000},\"x\":{\"field\":\"x\"}},\"id\":\"1049\",\"type\":\"VBar\"},{\"attributes\":{},\"id\":\"1025\",\"type\":\"SaveTool\"},{\"attributes\":{},\"id\":\"1080\",\"type\":\"UnionRenderers\"},{\"attributes\":{\"base\":60,\"mantissas\":[1,2,5,10,15,20,30],\"max_interval\":1800000.0,\"min_interval\":1000.0,\"num_minor_ticks\":0},\"id\":\"1088\",\"type\":\"AdaptiveTicker\"},{\"attributes\":{\"bottom\":{\"field\":\"bottom\"},\"fill_color\":{\"value\":\"#F2583E\"},\"top\":{\"field\":\"top\"},\"width\":{\"value\":43200000},\"x\":{\"field\":\"x\"}},\"id\":\"1062\",\"type\":\"VBar\"},{\"attributes\":{\"base\":24,\"mantissas\":[1,2,4,6,8,12],\"max_interval\":43200000.0,\"min_interval\":3600000.0,\"num_minor_ticks\":0},\"id\":\"1089\",\"type\":\"AdaptiveTicker\"},{\"attributes\":{\"days\":[1,8,15,22]},\"id\":\"1092\",\"type\":\"DaysTicker\"},{\"attributes\":{\"data\":{\"bottom\":[\"4,017.77\",\"3,898.85\",\"3,928.86\",\"3,990.97\",\"3,892.09\",\"3,808.10\",\"3,824.14\"],\"top\":[\"4,049.27\",\"3,911.84\",\"4,002.25\",\"3,999.28\",\"3,910.82\",\"3,839.74\",\"3,853.29\"],\"x\":{\"__ndarray__\":\"AAAAAAAAAAAAAAAAAAAAAAAAAAAAAAAAAAAAAAAAAAAAAAAAAAAAAAAAAAAAAAAAAAAAAAAAAAA=\",\"dtype\":\"float64\",\"order\":\"little\",\"shape\":[7]}},\"selected\":{\"id\":\"1085\"},\"selection_policy\":{\"id\":\"1084\"}},\"id\":\"1061\",\"type\":\"ColumnDataSource\"},{\"attributes\":{\"months\":[0,1,2,3,4,5,6,7,8,9,10,11]},\"id\":\"1094\",\"type\":\"MonthsTicker\"},{\"attributes\":{\"axis\":{\"id\":\"1017\"},\"coordinates\":null,\"dimension\":1,\"grid_line_alpha\":0.3,\"group\":null,\"ticker\":null},\"id\":\"1020\",\"type\":\"Grid\"},{\"attributes\":{\"bottom\":{\"field\":\"bottom\"},\"fill_alpha\":{\"value\":0.2},\"fill_color\":{\"value\":\"#F2583E\"},\"hatch_alpha\":{\"value\":0.2},\"line_alpha\":{\"value\":0.2},\"top\":{\"field\":\"top\"},\"width\":{\"value\":43200000},\"x\":{\"field\":\"x\"}},\"id\":\"1064\",\"type\":\"VBar\"},{\"attributes\":{},\"id\":\"1081\",\"type\":\"Selection\"},{\"attributes\":{\"bottom_units\":\"screen\",\"coordinates\":null,\"fill_alpha\":0.5,\"fill_color\":\"lightgrey\",\"group\":null,\"left_units\":\"screen\",\"level\":\"overlay\",\"line_alpha\":1.0,\"line_color\":\"black\",\"line_dash\":[4,4],\"line_width\":2,\"right_units\":\"screen\",\"syncable\":false,\"top_units\":\"screen\"},\"id\":\"1026\",\"type\":\"BoxAnnotation\"},{\"attributes\":{\"days\":[1,2,3,4,5,6,7,8,9,10,11,12,13,14,15,16,17,18,19,20,21,22,23,24,25,26,27,28,29,30,31]},\"id\":\"1090\",\"type\":\"DaysTicker\"},{\"attributes\":{\"days\":[1,4,7,10,13,16,19,22,25,28]},\"id\":\"1091\",\"type\":\"DaysTicker\"},{\"attributes\":{\"coordinates\":null,\"data_source\":{\"id\":\"1061\"},\"glyph\":{\"id\":\"1062\"},\"group\":null,\"hover_glyph\":null,\"muted_glyph\":{\"id\":\"1064\"},\"nonselection_glyph\":{\"id\":\"1063\"},\"view\":{\"id\":\"1066\"}},\"id\":\"1065\",\"type\":\"GlyphRenderer\"},{\"attributes\":{\"days\":[1,15]},\"id\":\"1093\",\"type\":\"DaysTicker\"},{\"attributes\":{},\"id\":\"1098\",\"type\":\"YearsTicker\"},{\"attributes\":{\"coordinates\":null,\"formatter\":{\"id\":\"1074\"},\"group\":null,\"major_label_orientation\":0.7853981633974483,\"major_label_policy\":{\"id\":\"1075\"},\"ticker\":{\"id\":\"1014\"}},\"id\":\"1013\",\"type\":\"DatetimeAxis\"},{\"attributes\":{\"bottom\":{\"field\":\"bottom\"},\"fill_alpha\":{\"value\":0.1},\"fill_color\":{\"value\":\"#F2583E\"},\"hatch_alpha\":{\"value\":0.1},\"line_alpha\":{\"value\":0.1},\"top\":{\"field\":\"top\"},\"width\":{\"value\":43200000},\"x\":{\"field\":\"x\"}},\"id\":\"1063\",\"type\":\"VBar\"},{\"attributes\":{},\"id\":\"1021\",\"type\":\"PanTool\"},{\"attributes\":{\"months\":[0,6]},\"id\":\"1097\",\"type\":\"MonthsTicker\"},{\"attributes\":{\"source\":{\"id\":\"1061\"}},\"id\":\"1066\",\"type\":\"CDSView\"},{\"attributes\":{\"months\":[0,2,4,6,8,10]},\"id\":\"1095\",\"type\":\"MonthsTicker\"},{\"attributes\":{\"line_alpha\":{\"value\":0.1},\"line_color\":{\"value\":\"red\"},\"x0\":{\"field\":\"x0\"},\"x1\":{\"field\":\"x1\"},\"y0\":{\"field\":\"y0\"},\"y1\":{\"field\":\"y1\"}},\"id\":\"1035\",\"type\":\"Segment\"},{\"attributes\":{\"line_alpha\":{\"value\":0.2},\"line_color\":{\"value\":\"red\"},\"x0\":{\"field\":\"x0\"},\"x1\":{\"field\":\"x1\"},\"y0\":{\"field\":\"y0\"},\"y1\":{\"field\":\"y1\"}},\"id\":\"1036\",\"type\":\"Segment\"},{\"attributes\":{\"months\":[0,4,8]},\"id\":\"1096\",\"type\":\"MonthsTicker\"},{\"attributes\":{\"bottom\":{\"field\":\"bottom\"},\"fill_color\":{\"value\":\"#1ED837\"},\"top\":{\"field\":\"top\"},\"width\":{\"value\":43200000},\"x\":{\"field\":\"x\"}},\"id\":\"1056\",\"type\":\"VBar\"},{\"attributes\":{},\"id\":\"1071\",\"type\":\"BasicTickFormatter\"},{\"attributes\":{\"bottom\":{\"field\":\"bottom\"},\"fill_alpha\":{\"value\":0.2},\"fill_color\":{\"value\":\"#1ED837\"},\"hatch_alpha\":{\"value\":0.2},\"line_alpha\":{\"value\":0.2},\"top\":{\"field\":\"top\"},\"width\":{\"value\":43200000},\"x\":{\"field\":\"x\"}},\"id\":\"1044\",\"type\":\"VBar\"},{\"attributes\":{\"data\":{\"x0\":{\"__ndarray__\":\"AAAAAAAAAAAAAAAAAAAAAAAAAAAAAAAAAAAAAAAAAAAAAAAAAAAAAAAAAAAAAAAAAAAAAAAAAAAAAAAAAAAAAAAAAAAAAAAAAAAAAAAAAAAAAAAAAAAAAAAAAAAAAAAAAAAAAAAAAAAAAAAAAAAAAAAAAAAAAAAAAAAAAAAAAAAAAAAAAAAAAAAAAAAAAAAAAAAAAAAAAAAAAAAAAAAAAAAAAAAAAAAA\",\"dtype\":\"float64\",\"order\":\"little\",\"shape\":[21]},\"x1\":{\"__ndarray__\":\"AAAAAAAAAAAAAAAAAAAAAAAAAAAAAAAAAAAAAAAAAAAAAAAAAAAAAAAAAAAAAAAAAAAAAAAAAAAAAAAAAAAAAAAAAAAAAAAAAAAAAAAAAAAAAAAAAAAAAAAAAAAAAAAAAAAAAAAAAAAAAAAAAAAAAAAAAAAAAAAAAAAAAAAAAAAAAAAAAAAAAAAAAAAAAAAAAAAAAAAAAAAAAAAAAAAAAAAAAAAAAAAA\",\"dtype\":\"float64\",\"order\":\"little\",\"shape\":[21]},\"y0\":[\"4,148.95\",\"4,077.16\",\"4,063.85\",\"4,094.21\",\"4,061.57\",\"4,019.55\",\"4,023.92\",\"4,039.31\",\"3,972.96\",\"3,922.94\",\"4,014.16\",\"4,015.39\",\"4,003.95\",\"3,997.76\",\"3,970.07\",\"3,919.83\",\"3,950.57\",\"3,906.19\",\"3,839.74\",\"3,873.16\",\"3,878.46\"],\"y1\":[\"4,037.20\",\"4,020.44\",\"4,015.55\",\"4,048.70\",\"4,013.29\",\"3,949.06\",\"3,989.79\",\"3,971.64\",\"3,897.86\",\"3,885.54\",\"3,926.59\",\"3,984.57\",\"3,947.67\",\"3,937.56\",\"3,928.54\",\"3,877.29\",\"3,890.42\",\"3,809.56\",\"3,802.42\",\"3,815.77\",\"3,794.33\"]},\"selected\":{\"id\":\"1077\"},\"selection_policy\":{\"id\":\"1076\"}},\"id\":\"1033\",\"type\":\"ColumnDataSource\"},{\"attributes\":{},\"id\":\"1082\",\"type\":\"UnionRenderers\"},{\"attributes\":{},\"id\":\"1072\",\"type\":\"AllLabels\"},{\"attributes\":{},\"id\":\"1083\",\"type\":\"Selection\"},{\"attributes\":{},\"id\":\"1074\",\"type\":\"DatetimeTickFormatter\"},{\"attributes\":{\"bottom\":{\"field\":\"bottom\"},\"fill_alpha\":{\"value\":0.1},\"fill_color\":{\"value\":\"#1ED837\"},\"hatch_alpha\":{\"value\":0.1},\"line_alpha\":{\"value\":0.1},\"top\":{\"field\":\"top\"},\"width\":{\"value\":43200000},\"x\":{\"field\":\"x\"}},\"id\":\"1043\",\"type\":\"VBar\"},{\"attributes\":{\"coordinates\":null,\"data_source\":{\"id\":\"1047\"},\"glyph\":{\"id\":\"1048\"},\"group\":null,\"hover_glyph\":null,\"muted_glyph\":{\"id\":\"1050\"},\"nonselection_glyph\":{\"id\":\"1049\"},\"view\":{\"id\":\"1052\"}},\"id\":\"1051\",\"type\":\"GlyphRenderer\"},{\"attributes\":{\"coordinates\":null,\"formatter\":{\"id\":\"1071\"},\"group\":null,\"major_label_policy\":{\"id\":\"1072\"},\"ticker\":{\"id\":\"1018\"}},\"id\":\"1017\",\"type\":\"LinearAxis\"},{\"attributes\":{},\"id\":\"1009\",\"type\":\"LinearScale\"},{\"attributes\":{\"source\":{\"id\":\"1047\"}},\"id\":\"1052\",\"type\":\"CDSView\"},{\"attributes\":{},\"id\":\"1075\",\"type\":\"AllLabels\"},{\"attributes\":{},\"id\":\"1011\",\"type\":\"LinearScale\"},{\"attributes\":{},\"id\":\"1007\",\"type\":\"DataRange1d\"},{\"attributes\":{\"source\":{\"id\":\"1033\"}},\"id\":\"1038\",\"type\":\"CDSView\"},{\"attributes\":{\"axis\":{\"id\":\"1013\"},\"coordinates\":null,\"grid_line_alpha\":0.3,\"group\":null,\"ticker\":null},\"id\":\"1016\",\"type\":\"Grid\"},{\"attributes\":{},\"id\":\"1076\",\"type\":\"UnionRenderers\"},{\"attributes\":{},\"id\":\"1084\",\"type\":\"UnionRenderers\"},{\"attributes\":{\"coordinates\":null,\"data_source\":{\"id\":\"1055\"},\"glyph\":{\"id\":\"1056\"},\"group\":null,\"hover_glyph\":null,\"muted_glyph\":{\"id\":\"1058\"},\"nonselection_glyph\":{\"id\":\"1057\"},\"view\":{\"id\":\"1060\"}},\"id\":\"1059\",\"type\":\"GlyphRenderer\"},{\"attributes\":{},\"id\":\"1077\",\"type\":\"Selection\"},{\"attributes\":{},\"id\":\"1085\",\"type\":\"Selection\"},{\"attributes\":{\"data\":{\"bottom\":[\"4,119.21\",\"4,076.60\",\"4,070.56\",\"4,060.43\",\"4,016.22\",\"4,016.95\",\"4,019.81\",\"3,972.61\",\"3,999.09\",\"3,983.17\",\"3,969.61\",\"3,919.25\",\"3,895.08\",\"3,852.97\"],\"top\":[\"4,070.07\",\"4,020.85\",\"4,053.72\",\"4,036.08\",\"3,982.71\",\"4,001.74\",\"3,978.14\",\"3,909.04\",\"3,960.32\",\"3,977.57\",\"3,932.35\",\"3,888.57\",\"3,823.37\",\"3,840.36\"],\"x\":{\"__ndarray__\":\"AAAAAAAAAAAAAAAAAAAAAAAAAAAAAAAAAAAAAAAAAAAAAAAAAAAAAAAAAAAAAAAAAAAAAAAAAAAAAAAAAAAAAAAAAAAAAAAAAAAAAAAAAAAAAAAAAAAAAAAAAAAAAAAAAAAAAAAAAAAAAAAAAAAAAA==\",\"dtype\":\"float64\",\"order\":\"little\",\"shape\":[14]}},\"selected\":{\"id\":\"1083\"},\"selection_policy\":{\"id\":\"1082\"}},\"id\":\"1055\",\"type\":\"ColumnDataSource\"},{\"attributes\":{},\"id\":\"1018\",\"type\":\"BasicTicker\"},{\"attributes\":{\"bottom\":{\"field\":\"bottom\"},\"fill_alpha\":{\"value\":0.2},\"fill_color\":{\"value\":\"#1ED837\"},\"hatch_alpha\":{\"value\":0.2},\"line_alpha\":{\"value\":0.2},\"top\":{\"field\":\"top\"},\"width\":{\"value\":43200000},\"x\":{\"field\":\"x\"}},\"id\":\"1058\",\"type\":\"VBar\"},{\"attributes\":{\"bottom\":{\"field\":\"bottom\"},\"fill_alpha\":{\"value\":0.2},\"fill_color\":{\"value\":\"#F2583E\"},\"hatch_alpha\":{\"value\":0.2},\"line_alpha\":{\"value\":0.2},\"top\":{\"field\":\"top\"},\"width\":{\"value\":43200000},\"x\":{\"field\":\"x\"}},\"id\":\"1050\",\"type\":\"VBar\"},{\"attributes\":{\"below\":[{\"id\":\"1013\"}],\"center\":[{\"id\":\"1016\"},{\"id\":\"1020\"}],\"left\":[{\"id\":\"1017\"}],\"renderers\":[{\"id\":\"1037\"},{\"id\":\"1045\"},{\"id\":\"1051\"},{\"id\":\"1059\"},{\"id\":\"1065\"}],\"title\":{\"id\":\"1003\"},\"toolbar\":{\"id\":\"1027\"},\"width\":1000,\"x_range\":{\"id\":\"1005\"},\"x_scale\":{\"id\":\"1009\"},\"y_range\":{\"id\":\"1007\"},\"y_scale\":{\"id\":\"1011\"}},\"id\":\"1002\",\"subtype\":\"Figure\",\"type\":\"Plot\"},{\"attributes\":{\"bottom\":{\"field\":\"bottom\"},\"fill_color\":{\"value\":\"#F2583E\"},\"top\":{\"field\":\"top\"},\"width\":{\"value\":43200000},\"x\":{\"field\":\"x\"}},\"id\":\"1048\",\"type\":\"VBar\"},{\"attributes\":{\"data\":{\"bottom\":[\"4,017.77\",\"3,898.85\",\"3,928.86\",\"3,990.97\",\"3,892.09\",\"3,808.10\",\"3,824.14\"],\"top\":[\"4,049.27\",\"3,911.84\",\"4,002.25\",\"3,999.28\",\"3,910.82\",\"3,839.74\",\"3,853.29\"],\"x\":{\"__ndarray__\":\"AAAAAAAAAAAAAAAAAAAAAAAAAAAAAAAAAAAAAAAAAAAAAAAAAAAAAAAAAAAAAAAAAAAAAAAAAAA=\",\"dtype\":\"float64\",\"order\":\"little\",\"shape\":[7]}},\"selected\":{\"id\":\"1081\"},\"selection_policy\":{\"id\":\"1080\"}},\"id\":\"1047\",\"type\":\"ColumnDataSource\"},{\"attributes\":{\"num_minor_ticks\":5,\"tickers\":[{\"id\":\"1087\"},{\"id\":\"1088\"},{\"id\":\"1089\"},{\"id\":\"1090\"},{\"id\":\"1091\"},{\"id\":\"1092\"},{\"id\":\"1093\"},{\"id\":\"1094\"},{\"id\":\"1095\"},{\"id\":\"1096\"},{\"id\":\"1097\"},{\"id\":\"1098\"}]},\"id\":\"1014\",\"type\":\"DatetimeTicker\"},{\"attributes\":{\"tools\":[{\"id\":\"1021\"},{\"id\":\"1022\"},{\"id\":\"1023\"},{\"id\":\"1024\"},{\"id\":\"1025\"}]},\"id\":\"1027\",\"type\":\"Toolbar\"},{\"attributes\":{\"bottom\":{\"field\":\"bottom\"},\"fill_alpha\":{\"value\":0.1},\"fill_color\":{\"value\":\"#1ED837\"},\"hatch_alpha\":{\"value\":0.1},\"line_alpha\":{\"value\":0.1},\"top\":{\"field\":\"top\"},\"width\":{\"value\":43200000},\"x\":{\"field\":\"x\"}},\"id\":\"1057\",\"type\":\"VBar\"},{\"attributes\":{},\"id\":\"1022\",\"type\":\"WheelZoomTool\"},{\"attributes\":{},\"id\":\"1078\",\"type\":\"UnionRenderers\"},{\"attributes\":{},\"id\":\"1079\",\"type\":\"Selection\"},{\"attributes\":{\"source\":{\"id\":\"1055\"}},\"id\":\"1060\",\"type\":\"CDSView\"}],\"root_ids\":[\"1002\"]},\"title\":\"Bokeh Application\",\"version\":\"2.4.2\"}}\n",
       "        </script>\n",
       "        <script type=\"text/javascript\">\n",
       "          (function() {\n",
       "            const fn = function() {\n",
       "              Bokeh.safely(function() {\n",
       "                (function(root) {\n",
       "                  function embed_document(root) {\n",
       "                    \n",
       "                  const docs_json = document.getElementById('1459').textContent;\n",
       "                  const render_items = [{\"docid\":\"b7af09c5-80e6-42c5-bca0-6c6487f92e9e\",\"root_ids\":[\"1002\"],\"roots\":{\"1002\":\"2154677a-68d8-463b-b469-598371070e73\"}}];\n",
       "                  root.Bokeh.embed.embed_items(docs_json, render_items);\n",
       "                \n",
       "                  }\n",
       "                  if (root.Bokeh !== undefined) {\n",
       "                    embed_document(root);\n",
       "                  } else {\n",
       "                    let attempts = 0;\n",
       "                    const timer = setInterval(function(root) {\n",
       "                      if (root.Bokeh !== undefined) {\n",
       "                        clearInterval(timer);\n",
       "                        embed_document(root);\n",
       "                      } else {\n",
       "                        attempts++;\n",
       "                        if (attempts > 100) {\n",
       "                          clearInterval(timer);\n",
       "                          console.log(\"Bokeh: ERROR: Unable to run BokehJS code because BokehJS library is missing\");\n",
       "                        }\n",
       "                      }\n",
       "                    }, 10, root)\n",
       "                  }\n",
       "                })(window);\n",
       "              });\n",
       "            };\n",
       "            if (document.readyState != \"loading\") fn();\n",
       "            else document.addEventListener(\"DOMContentLoaded\", fn);\n",
       "          })();\n",
       "        </script>\n",
       "    \n",
       "  </body>\n",
       "  \n",
       "</html>"
      ],
      "text/plain": [
       "<IPython.core.display.HTML object>"
      ]
     },
     "execution_count": 49,
     "metadata": {},
     "output_type": "execute_result"
    }
   ],
   "source": [
    "from IPython.display import HTML\n",
    "HTML(\"./candlestick.html\")"
   ]
  },
  {
   "cell_type": "code",
   "execution_count": 50,
   "id": "1906b929",
   "metadata": {},
   "outputs": [],
   "source": [
    "show(p)"
   ]
  },
  {
   "cell_type": "markdown",
   "id": "9f99564e",
   "metadata": {},
   "source": [
    "# PANDAS"
   ]
  },
  {
   "cell_type": "code",
   "execution_count": 51,
   "id": "74f84cfb",
   "metadata": {},
   "outputs": [],
   "source": [
    "import pandas as pd"
   ]
  },
  {
   "cell_type": "code",
   "execution_count": 52,
   "id": "23cb5222",
   "metadata": {},
   "outputs": [],
   "source": [
    "my_series =pd.Series([10,20,30,40,50])"
   ]
  },
  {
   "cell_type": "code",
   "execution_count": 53,
   "id": "27126f1a",
   "metadata": {},
   "outputs": [
    {
     "name": "stdout",
     "output_type": "stream",
     "text": [
      "0    10\n",
      "1    20\n",
      "2    30\n",
      "3    40\n",
      "4    50\n",
      "dtype: int64\n"
     ]
    }
   ],
   "source": [
    "print(my_series)"
   ]
  },
  {
   "cell_type": "code",
   "execution_count": 54,
   "id": "605741f0",
   "metadata": {},
   "outputs": [
    {
     "name": "stdout",
     "output_type": "stream",
     "text": [
      "RangeIndex(start=0, stop=5, step=1)\n"
     ]
    }
   ],
   "source": [
    "print(my_series.index)"
   ]
  },
  {
   "cell_type": "code",
   "execution_count": 56,
   "id": "03ea1d91",
   "metadata": {},
   "outputs": [
    {
     "name": "stdout",
     "output_type": "stream",
     "text": [
      "[10 20 30 40 50]\n"
     ]
    }
   ],
   "source": [
    "print(my_series.values)"
   ]
  },
  {
   "cell_type": "code",
   "execution_count": 58,
   "id": "60ea1742",
   "metadata": {},
   "outputs": [],
   "source": [
    "mixed_series =pd.Series([10,20.4,'ahmed',40,50])"
   ]
  },
  {
   "cell_type": "code",
   "execution_count": 59,
   "id": "f0d07464",
   "metadata": {},
   "outputs": [
    {
     "name": "stdout",
     "output_type": "stream",
     "text": [
      "0       10\n",
      "1     20.4\n",
      "2    ahmed\n",
      "3       40\n",
      "4       50\n",
      "dtype: object\n"
     ]
    }
   ],
   "source": [
    "print(mixed_series)"
   ]
  },
  {
   "cell_type": "code",
   "execution_count": 60,
   "id": "12830c7e",
   "metadata": {},
   "outputs": [],
   "source": [
    "stock_set1= ['facebook','amazon','apple','netflix']"
   ]
  },
  {
   "cell_type": "code",
   "execution_count": 64,
   "id": "8f490c68",
   "metadata": {},
   "outputs": [
    {
     "data": {
      "text/plain": [
       "facebook    100\n",
       "amazon      200\n",
       "apple       300\n",
       "netflix     400\n",
       "dtype: int64"
      ]
     },
     "execution_count": 64,
     "metadata": {},
     "output_type": "execute_result"
    }
   ],
   "source": [
    "s1= pd.Series([100,200,300,400], index=stock_set1)\n",
    "s1"
   ]
  },
  {
   "cell_type": "code",
   "execution_count": 62,
   "id": "b0d9baba",
   "metadata": {},
   "outputs": [],
   "source": [
    "stock_set2 =['facebook','google','apple','netflix']"
   ]
  },
  {
   "cell_type": "code",
   "execution_count": 65,
   "id": "5ba67512",
   "metadata": {},
   "outputs": [],
   "source": [
    "s2=pd.Series([300,400,500,600],index=stock_set2)"
   ]
  },
  {
   "cell_type": "code",
   "execution_count": 66,
   "id": "80c7388b",
   "metadata": {},
   "outputs": [
    {
     "data": {
      "text/plain": [
       "facebook    300\n",
       "google      400\n",
       "apple       500\n",
       "netflix     600\n",
       "dtype: int64"
      ]
     },
     "execution_count": 66,
     "metadata": {},
     "output_type": "execute_result"
    }
   ],
   "source": [
    "s2"
   ]
  },
  {
   "cell_type": "code",
   "execution_count": 67,
   "id": "80f8fe4a",
   "metadata": {},
   "outputs": [
    {
     "name": "stdout",
     "output_type": "stream",
     "text": [
      "amazon         NaN\n",
      "apple        800.0\n",
      "facebook     400.0\n",
      "google         NaN\n",
      "netflix     1000.0\n",
      "dtype: float64\n"
     ]
    }
   ],
   "source": [
    "print(s1 + s2)"
   ]
  },
  {
   "cell_type": "code",
   "execution_count": 70,
   "id": "3b4e4fe6",
   "metadata": {},
   "outputs": [
    {
     "data": {
      "text/plain": [
       "amazon       True\n",
       "apple       False\n",
       "facebook    False\n",
       "google       True\n",
       "netflix     False\n",
       "dtype: bool"
      ]
     },
     "execution_count": 70,
     "metadata": {},
     "output_type": "execute_result"
    }
   ],
   "source": [
    "(s1+s2).isnull()"
   ]
  },
  {
   "cell_type": "code",
   "execution_count": 71,
   "id": "3d335c46",
   "metadata": {},
   "outputs": [
    {
     "name": "stdout",
     "output_type": "stream",
     "text": [
      "amazon       True\n",
      "apple       False\n",
      "facebook    False\n",
      "google       True\n",
      "netflix     False\n",
      "dtype: bool\n"
     ]
    }
   ],
   "source": [
    "s3=s1+s2\n",
    "print(s3.isnull())"
   ]
  },
  {
   "cell_type": "code",
   "execution_count": 72,
   "id": "d63500dd",
   "metadata": {},
   "outputs": [
    {
     "name": "stdout",
     "output_type": "stream",
     "text": [
      "apple        800.0\n",
      "facebook     400.0\n",
      "netflix     1000.0\n",
      "dtype: float64\n"
     ]
    }
   ],
   "source": [
    "print(s3.dropna())"
   ]
  },
  {
   "cell_type": "code",
   "execution_count": 73,
   "id": "b7bac4c6",
   "metadata": {},
   "outputs": [
    {
     "name": "stdout",
     "output_type": "stream",
     "text": [
      "amazon         1.0\n",
      "apple        800.0\n",
      "facebook     400.0\n",
      "google         1.0\n",
      "netflix     1000.0\n",
      "dtype: float64\n"
     ]
    }
   ],
   "source": [
    "print(s3.fillna(1))"
   ]
  },
  {
   "cell_type": "code",
   "execution_count": 75,
   "id": "a89f00cd",
   "metadata": {},
   "outputs": [],
   "source": [
    "apply_method =pd.Series([10,20,30,40,50])"
   ]
  },
  {
   "cell_type": "code",
   "execution_count": 77,
   "id": "9f2f653a",
   "metadata": {},
   "outputs": [
    {
     "data": {
      "text/plain": [
       "0   -0.544021\n",
       "1    0.912945\n",
       "2   -0.988032\n",
       "3    0.745113\n",
       "4   -0.262375\n",
       "dtype: float64"
      ]
     },
     "execution_count": 77,
     "metadata": {},
     "output_type": "execute_result"
    }
   ],
   "source": [
    "apply_method.apply(np.sin)"
   ]
  },
  {
   "cell_type": "code",
   "execution_count": 78,
   "id": "f6952d09",
   "metadata": {},
   "outputs": [
    {
     "data": {
      "text/plain": [
       "0   -0.839072\n",
       "1    0.408082\n",
       "2    0.154251\n",
       "3   -0.666938\n",
       "4    0.964966\n",
       "dtype: float64"
      ]
     },
     "execution_count": 78,
     "metadata": {},
     "output_type": "execute_result"
    }
   ],
   "source": [
    "apply_method.apply(np.cos)"
   ]
  },
  {
   "cell_type": "markdown",
   "id": "841f5e81",
   "metadata": {},
   "source": [
    "# DATAFRAMES"
   ]
  },
  {
   "cell_type": "code",
   "execution_count": 79,
   "id": "d6facca3",
   "metadata": {},
   "outputs": [],
   "source": [
    "import numpy as np\n",
    "import pandas as pd"
   ]
  },
  {
   "cell_type": "code",
   "execution_count": 81,
   "id": "6135c717",
   "metadata": {},
   "outputs": [
    {
     "data": {
      "text/html": [
       "<div>\n",
       "<style scoped>\n",
       "    .dataframe tbody tr th:only-of-type {\n",
       "        vertical-align: middle;\n",
       "    }\n",
       "\n",
       "    .dataframe tbody tr th {\n",
       "        vertical-align: top;\n",
       "    }\n",
       "\n",
       "    .dataframe thead th {\n",
       "        text-align: right;\n",
       "    }\n",
       "</style>\n",
       "<table border=\"1\" class=\"dataframe\">\n",
       "  <thead>\n",
       "    <tr style=\"text-align: right;\">\n",
       "      <th></th>\n",
       "      <th>stock name</th>\n",
       "      <th>no of shares</th>\n",
       "      <th>share price</th>\n",
       "    </tr>\n",
       "  </thead>\n",
       "  <tbody>\n",
       "    <tr>\n",
       "      <th>0</th>\n",
       "      <td>amazon</td>\n",
       "      <td>1001</td>\n",
       "      <td>$250</td>\n",
       "    </tr>\n",
       "    <tr>\n",
       "      <th>1</th>\n",
       "      <td>apple</td>\n",
       "      <td>1524</td>\n",
       "      <td>$200</td>\n",
       "    </tr>\n",
       "    <tr>\n",
       "      <th>2</th>\n",
       "      <td>google</td>\n",
       "      <td>578</td>\n",
       "      <td>$185</td>\n",
       "    </tr>\n",
       "    <tr>\n",
       "      <th>3</th>\n",
       "      <td>microsoft</td>\n",
       "      <td>875</td>\n",
       "      <td>$95</td>\n",
       "    </tr>\n",
       "  </tbody>\n",
       "</table>\n",
       "</div>"
      ],
      "text/plain": [
       "  stock name  no of shares share price\n",
       "0     amazon          1001        $250\n",
       "1      apple          1524        $200\n",
       "2     google           578        $185\n",
       "3  microsoft           875         $95"
      ]
     },
     "execution_count": 81,
     "metadata": {},
     "output_type": "execute_result"
    }
   ],
   "source": [
    "my_portfolio = {\n",
    "    \n",
    "    \"stock name\":[\"amazon\",\"apple\",\"google\",\"microsoft\"],\n",
    "    \"no of shares\":[1001,1524,578,875],\n",
    "    \"share price\":[\"$250\",\"$200\",\"$185\",\"$95\"]\n",
    "}\n",
    "\n",
    "my_portfolio_frame =pd.DataFrame(my_portfolio)\n",
    "my_portfolio_frame"
   ]
  },
  {
   "cell_type": "code",
   "execution_count": 82,
   "id": "53caf1f8",
   "metadata": {},
   "outputs": [
    {
     "data": {
      "text/html": [
       "<div>\n",
       "<style scoped>\n",
       "    .dataframe tbody tr th:only-of-type {\n",
       "        vertical-align: middle;\n",
       "    }\n",
       "\n",
       "    .dataframe tbody tr th {\n",
       "        vertical-align: top;\n",
       "    }\n",
       "\n",
       "    .dataframe thead th {\n",
       "        text-align: right;\n",
       "    }\n",
       "</style>\n",
       "<table border=\"1\" class=\"dataframe\">\n",
       "  <thead>\n",
       "    <tr style=\"text-align: right;\">\n",
       "      <th></th>\n",
       "      <th>stock name</th>\n",
       "      <th>no of shares</th>\n",
       "      <th>share price</th>\n",
       "    </tr>\n",
       "  </thead>\n",
       "  <tbody>\n",
       "    <tr>\n",
       "      <th>first</th>\n",
       "      <td>amazon</td>\n",
       "      <td>1001</td>\n",
       "      <td>$250</td>\n",
       "    </tr>\n",
       "    <tr>\n",
       "      <th>second</th>\n",
       "      <td>apple</td>\n",
       "      <td>1524</td>\n",
       "      <td>$200</td>\n",
       "    </tr>\n",
       "    <tr>\n",
       "      <th>third</th>\n",
       "      <td>google</td>\n",
       "      <td>578</td>\n",
       "      <td>$185</td>\n",
       "    </tr>\n",
       "    <tr>\n",
       "      <th>fourth</th>\n",
       "      <td>microsoft</td>\n",
       "      <td>875</td>\n",
       "      <td>$95</td>\n",
       "    </tr>\n",
       "  </tbody>\n",
       "</table>\n",
       "</div>"
      ],
      "text/plain": [
       "       stock name  no of shares share price\n",
       "first      amazon          1001        $250\n",
       "second      apple          1524        $200\n",
       "third      google           578        $185\n",
       "fourth  microsoft           875         $95"
      ]
     },
     "execution_count": 82,
     "metadata": {},
     "output_type": "execute_result"
    }
   ],
   "source": [
    "my_index=[\"first\",\"second\",\"third\",\"fourth\"]\n",
    "\n",
    "my_portfolio = {\n",
    "    \n",
    "    \"stock name\":[\"amazon\",\"apple\",\"google\",\"microsoft\"],\n",
    "    \"no of shares\":[1001,1524,578,875],\n",
    "    \"share price\":[\"$250\",\"$200\",\"$185\",\"$95\"]\n",
    "}\n",
    "\n",
    "my_portfolio_frame =pd.DataFrame(my_portfolio,index=my_index)\n",
    "my_portfolio_frame"
   ]
  },
  {
   "cell_type": "code",
   "execution_count": 83,
   "id": "fe3dbb03",
   "metadata": {},
   "outputs": [],
   "source": [
    "infy = pd.read_csv(\"C:\\\\Users\\91878\\\\Downloads\\\\INFY.NS.csv\")"
   ]
  },
  {
   "cell_type": "code",
   "execution_count": 84,
   "id": "5dd45fac",
   "metadata": {},
   "outputs": [
    {
     "data": {
      "text/html": [
       "<div>\n",
       "<style scoped>\n",
       "    .dataframe tbody tr th:only-of-type {\n",
       "        vertical-align: middle;\n",
       "    }\n",
       "\n",
       "    .dataframe tbody tr th {\n",
       "        vertical-align: top;\n",
       "    }\n",
       "\n",
       "    .dataframe thead th {\n",
       "        text-align: right;\n",
       "    }\n",
       "</style>\n",
       "<table border=\"1\" class=\"dataframe\">\n",
       "  <thead>\n",
       "    <tr style=\"text-align: right;\">\n",
       "      <th></th>\n",
       "      <th>Date</th>\n",
       "      <th>Open</th>\n",
       "      <th>High</th>\n",
       "      <th>Low</th>\n",
       "      <th>Close</th>\n",
       "      <th>Adj Close</th>\n",
       "      <th>Volume</th>\n",
       "    </tr>\n",
       "  </thead>\n",
       "  <tbody>\n",
       "    <tr>\n",
       "      <th>0</th>\n",
       "      <td>2022-02-01</td>\n",
       "      <td>1766.099976</td>\n",
       "      <td>1780.000000</td>\n",
       "      <td>1734.699951</td>\n",
       "      <td>1772.050049</td>\n",
       "      <td>1734.524048</td>\n",
       "      <td>5119935.0</td>\n",
       "    </tr>\n",
       "    <tr>\n",
       "      <th>1</th>\n",
       "      <td>2022-02-02</td>\n",
       "      <td>1789.000000</td>\n",
       "      <td>1792.800049</td>\n",
       "      <td>1772.000000</td>\n",
       "      <td>1787.099976</td>\n",
       "      <td>1749.255249</td>\n",
       "      <td>4253717.0</td>\n",
       "    </tr>\n",
       "    <tr>\n",
       "      <th>2</th>\n",
       "      <td>2022-02-03</td>\n",
       "      <td>1779.000000</td>\n",
       "      <td>1779.000000</td>\n",
       "      <td>1734.000000</td>\n",
       "      <td>1738.550049</td>\n",
       "      <td>1701.733521</td>\n",
       "      <td>3832922.0</td>\n",
       "    </tr>\n",
       "    <tr>\n",
       "      <th>3</th>\n",
       "      <td>2022-02-04</td>\n",
       "      <td>1732.000000</td>\n",
       "      <td>1753.949951</td>\n",
       "      <td>1710.150024</td>\n",
       "      <td>1741.099976</td>\n",
       "      <td>1704.229370</td>\n",
       "      <td>4700077.0</td>\n",
       "    </tr>\n",
       "    <tr>\n",
       "      <th>4</th>\n",
       "      <td>2022-02-07</td>\n",
       "      <td>1722.199951</td>\n",
       "      <td>1732.000000</td>\n",
       "      <td>1695.400024</td>\n",
       "      <td>1715.000000</td>\n",
       "      <td>1678.682129</td>\n",
       "      <td>4310209.0</td>\n",
       "    </tr>\n",
       "    <tr>\n",
       "      <th>...</th>\n",
       "      <td>...</td>\n",
       "      <td>...</td>\n",
       "      <td>...</td>\n",
       "      <td>...</td>\n",
       "      <td>...</td>\n",
       "      <td>...</td>\n",
       "      <td>...</td>\n",
       "    </tr>\n",
       "    <tr>\n",
       "      <th>245</th>\n",
       "      <td>2023-01-25</td>\n",
       "      <td>1547.000000</td>\n",
       "      <td>1556.000000</td>\n",
       "      <td>1538.750000</td>\n",
       "      <td>1543.000000</td>\n",
       "      <td>1543.000000</td>\n",
       "      <td>4158617.0</td>\n",
       "    </tr>\n",
       "    <tr>\n",
       "      <th>246</th>\n",
       "      <td>2023-01-27</td>\n",
       "      <td>1546.000000</td>\n",
       "      <td>1550.949951</td>\n",
       "      <td>1507.400024</td>\n",
       "      <td>1519.150024</td>\n",
       "      <td>1519.150024</td>\n",
       "      <td>6209955.0</td>\n",
       "    </tr>\n",
       "    <tr>\n",
       "      <th>247</th>\n",
       "      <td>2023-01-30</td>\n",
       "      <td>1528.800049</td>\n",
       "      <td>1544.000000</td>\n",
       "      <td>1520.000000</td>\n",
       "      <td>1538.800049</td>\n",
       "      <td>1538.800049</td>\n",
       "      <td>6964719.0</td>\n",
       "    </tr>\n",
       "    <tr>\n",
       "      <th>248</th>\n",
       "      <td>2023-01-31</td>\n",
       "      <td>NaN</td>\n",
       "      <td>NaN</td>\n",
       "      <td>NaN</td>\n",
       "      <td>NaN</td>\n",
       "      <td>NaN</td>\n",
       "      <td>NaN</td>\n",
       "    </tr>\n",
       "    <tr>\n",
       "      <th>249</th>\n",
       "      <td>2023-02-01</td>\n",
       "      <td>1542.199951</td>\n",
       "      <td>1555.050049</td>\n",
       "      <td>1528.050049</td>\n",
       "      <td>1551.099976</td>\n",
       "      <td>1551.099976</td>\n",
       "      <td>6193725.0</td>\n",
       "    </tr>\n",
       "  </tbody>\n",
       "</table>\n",
       "<p>250 rows × 7 columns</p>\n",
       "</div>"
      ],
      "text/plain": [
       "           Date         Open         High          Low        Close  \\\n",
       "0    2022-02-01  1766.099976  1780.000000  1734.699951  1772.050049   \n",
       "1    2022-02-02  1789.000000  1792.800049  1772.000000  1787.099976   \n",
       "2    2022-02-03  1779.000000  1779.000000  1734.000000  1738.550049   \n",
       "3    2022-02-04  1732.000000  1753.949951  1710.150024  1741.099976   \n",
       "4    2022-02-07  1722.199951  1732.000000  1695.400024  1715.000000   \n",
       "..          ...          ...          ...          ...          ...   \n",
       "245  2023-01-25  1547.000000  1556.000000  1538.750000  1543.000000   \n",
       "246  2023-01-27  1546.000000  1550.949951  1507.400024  1519.150024   \n",
       "247  2023-01-30  1528.800049  1544.000000  1520.000000  1538.800049   \n",
       "248  2023-01-31          NaN          NaN          NaN          NaN   \n",
       "249  2023-02-01  1542.199951  1555.050049  1528.050049  1551.099976   \n",
       "\n",
       "       Adj Close     Volume  \n",
       "0    1734.524048  5119935.0  \n",
       "1    1749.255249  4253717.0  \n",
       "2    1701.733521  3832922.0  \n",
       "3    1704.229370  4700077.0  \n",
       "4    1678.682129  4310209.0  \n",
       "..           ...        ...  \n",
       "245  1543.000000  4158617.0  \n",
       "246  1519.150024  6209955.0  \n",
       "247  1538.800049  6964719.0  \n",
       "248          NaN        NaN  \n",
       "249  1551.099976  6193725.0  \n",
       "\n",
       "[250 rows x 7 columns]"
      ]
     },
     "execution_count": 84,
     "metadata": {},
     "output_type": "execute_result"
    }
   ],
   "source": [
    "infy"
   ]
  },
  {
   "cell_type": "code",
   "execution_count": 85,
   "id": "54523cc3",
   "metadata": {},
   "outputs": [
    {
     "data": {
      "text/html": [
       "<div>\n",
       "<style scoped>\n",
       "    .dataframe tbody tr th:only-of-type {\n",
       "        vertical-align: middle;\n",
       "    }\n",
       "\n",
       "    .dataframe tbody tr th {\n",
       "        vertical-align: top;\n",
       "    }\n",
       "\n",
       "    .dataframe thead th {\n",
       "        text-align: right;\n",
       "    }\n",
       "</style>\n",
       "<table border=\"1\" class=\"dataframe\">\n",
       "  <thead>\n",
       "    <tr style=\"text-align: right;\">\n",
       "      <th></th>\n",
       "      <th>Date</th>\n",
       "      <th>Open</th>\n",
       "      <th>High</th>\n",
       "      <th>Low</th>\n",
       "      <th>Close</th>\n",
       "      <th>Adj Close</th>\n",
       "      <th>Volume</th>\n",
       "    </tr>\n",
       "  </thead>\n",
       "  <tbody>\n",
       "    <tr>\n",
       "      <th>245</th>\n",
       "      <td>2023-01-25</td>\n",
       "      <td>1547.000000</td>\n",
       "      <td>1556.000000</td>\n",
       "      <td>1538.750000</td>\n",
       "      <td>1543.000000</td>\n",
       "      <td>1543.000000</td>\n",
       "      <td>4158617.0</td>\n",
       "    </tr>\n",
       "    <tr>\n",
       "      <th>246</th>\n",
       "      <td>2023-01-27</td>\n",
       "      <td>1546.000000</td>\n",
       "      <td>1550.949951</td>\n",
       "      <td>1507.400024</td>\n",
       "      <td>1519.150024</td>\n",
       "      <td>1519.150024</td>\n",
       "      <td>6209955.0</td>\n",
       "    </tr>\n",
       "    <tr>\n",
       "      <th>247</th>\n",
       "      <td>2023-01-30</td>\n",
       "      <td>1528.800049</td>\n",
       "      <td>1544.000000</td>\n",
       "      <td>1520.000000</td>\n",
       "      <td>1538.800049</td>\n",
       "      <td>1538.800049</td>\n",
       "      <td>6964719.0</td>\n",
       "    </tr>\n",
       "    <tr>\n",
       "      <th>248</th>\n",
       "      <td>2023-01-31</td>\n",
       "      <td>NaN</td>\n",
       "      <td>NaN</td>\n",
       "      <td>NaN</td>\n",
       "      <td>NaN</td>\n",
       "      <td>NaN</td>\n",
       "      <td>NaN</td>\n",
       "    </tr>\n",
       "    <tr>\n",
       "      <th>249</th>\n",
       "      <td>2023-02-01</td>\n",
       "      <td>1542.199951</td>\n",
       "      <td>1555.050049</td>\n",
       "      <td>1528.050049</td>\n",
       "      <td>1551.099976</td>\n",
       "      <td>1551.099976</td>\n",
       "      <td>6193725.0</td>\n",
       "    </tr>\n",
       "  </tbody>\n",
       "</table>\n",
       "</div>"
      ],
      "text/plain": [
       "           Date         Open         High          Low        Close  \\\n",
       "245  2023-01-25  1547.000000  1556.000000  1538.750000  1543.000000   \n",
       "246  2023-01-27  1546.000000  1550.949951  1507.400024  1519.150024   \n",
       "247  2023-01-30  1528.800049  1544.000000  1520.000000  1538.800049   \n",
       "248  2023-01-31          NaN          NaN          NaN          NaN   \n",
       "249  2023-02-01  1542.199951  1555.050049  1528.050049  1551.099976   \n",
       "\n",
       "       Adj Close     Volume  \n",
       "245  1543.000000  4158617.0  \n",
       "246  1519.150024  6209955.0  \n",
       "247  1538.800049  6964719.0  \n",
       "248          NaN        NaN  \n",
       "249  1551.099976  6193725.0  "
      ]
     },
     "execution_count": 85,
     "metadata": {},
     "output_type": "execute_result"
    }
   ],
   "source": [
    "infy.tail()"
   ]
  },
  {
   "cell_type": "code",
   "execution_count": 87,
   "id": "ce1dd11f",
   "metadata": {},
   "outputs": [
    {
     "data": {
      "text/html": [
       "<div>\n",
       "<style scoped>\n",
       "    .dataframe tbody tr th:only-of-type {\n",
       "        vertical-align: middle;\n",
       "    }\n",
       "\n",
       "    .dataframe tbody tr th {\n",
       "        vertical-align: top;\n",
       "    }\n",
       "\n",
       "    .dataframe thead th {\n",
       "        text-align: right;\n",
       "    }\n",
       "</style>\n",
       "<table border=\"1\" class=\"dataframe\">\n",
       "  <thead>\n",
       "    <tr style=\"text-align: right;\">\n",
       "      <th></th>\n",
       "      <th>Date</th>\n",
       "      <th>Open</th>\n",
       "      <th>High</th>\n",
       "      <th>Low</th>\n",
       "      <th>Close</th>\n",
       "      <th>Adj Close</th>\n",
       "      <th>Volume</th>\n",
       "    </tr>\n",
       "  </thead>\n",
       "  <tbody>\n",
       "    <tr>\n",
       "      <th>245</th>\n",
       "      <td>2023-01-25</td>\n",
       "      <td>1547.000000</td>\n",
       "      <td>1556.000000</td>\n",
       "      <td>1538.750000</td>\n",
       "      <td>1543.000000</td>\n",
       "      <td>1543.000000</td>\n",
       "      <td>4158617.0</td>\n",
       "    </tr>\n",
       "    <tr>\n",
       "      <th>246</th>\n",
       "      <td>2023-01-27</td>\n",
       "      <td>1546.000000</td>\n",
       "      <td>1550.949951</td>\n",
       "      <td>1507.400024</td>\n",
       "      <td>1519.150024</td>\n",
       "      <td>1519.150024</td>\n",
       "      <td>6209955.0</td>\n",
       "    </tr>\n",
       "    <tr>\n",
       "      <th>247</th>\n",
       "      <td>2023-01-30</td>\n",
       "      <td>1528.800049</td>\n",
       "      <td>1544.000000</td>\n",
       "      <td>1520.000000</td>\n",
       "      <td>1538.800049</td>\n",
       "      <td>1538.800049</td>\n",
       "      <td>6964719.0</td>\n",
       "    </tr>\n",
       "    <tr>\n",
       "      <th>249</th>\n",
       "      <td>2023-02-01</td>\n",
       "      <td>1542.199951</td>\n",
       "      <td>1555.050049</td>\n",
       "      <td>1528.050049</td>\n",
       "      <td>1551.099976</td>\n",
       "      <td>1551.099976</td>\n",
       "      <td>6193725.0</td>\n",
       "    </tr>\n",
       "  </tbody>\n",
       "</table>\n",
       "</div>"
      ],
      "text/plain": [
       "           Date         Open         High          Low        Close  \\\n",
       "245  2023-01-25  1547.000000  1556.000000  1538.750000  1543.000000   \n",
       "246  2023-01-27  1546.000000  1550.949951  1507.400024  1519.150024   \n",
       "247  2023-01-30  1528.800049  1544.000000  1520.000000  1538.800049   \n",
       "249  2023-02-01  1542.199951  1555.050049  1528.050049  1551.099976   \n",
       "\n",
       "       Adj Close     Volume  \n",
       "245  1543.000000  4158617.0  \n",
       "246  1519.150024  6209955.0  \n",
       "247  1538.800049  6964719.0  \n",
       "249  1551.099976  6193725.0  "
      ]
     },
     "execution_count": 87,
     "metadata": {},
     "output_type": "execute_result"
    }
   ],
   "source": [
    "infy.tail().dropna()"
   ]
  },
  {
   "cell_type": "code",
   "execution_count": 90,
   "id": "cabe838b",
   "metadata": {},
   "outputs": [
    {
     "data": {
      "text/html": [
       "<div>\n",
       "<style scoped>\n",
       "    .dataframe tbody tr th:only-of-type {\n",
       "        vertical-align: middle;\n",
       "    }\n",
       "\n",
       "    .dataframe tbody tr th {\n",
       "        vertical-align: top;\n",
       "    }\n",
       "\n",
       "    .dataframe thead th {\n",
       "        text-align: right;\n",
       "    }\n",
       "</style>\n",
       "<table border=\"1\" class=\"dataframe\">\n",
       "  <thead>\n",
       "    <tr style=\"text-align: right;\">\n",
       "      <th></th>\n",
       "      <th>Date</th>\n",
       "      <th>Open</th>\n",
       "      <th>High</th>\n",
       "      <th>Low</th>\n",
       "      <th>Close</th>\n",
       "    </tr>\n",
       "  </thead>\n",
       "  <tbody>\n",
       "    <tr>\n",
       "      <th>0</th>\n",
       "      <td>2022-02-01</td>\n",
       "      <td>1766.099976</td>\n",
       "      <td>1780.000000</td>\n",
       "      <td>1734.699951</td>\n",
       "      <td>1772.050049</td>\n",
       "    </tr>\n",
       "    <tr>\n",
       "      <th>1</th>\n",
       "      <td>2022-02-02</td>\n",
       "      <td>1789.000000</td>\n",
       "      <td>1792.800049</td>\n",
       "      <td>1772.000000</td>\n",
       "      <td>1787.099976</td>\n",
       "    </tr>\n",
       "    <tr>\n",
       "      <th>2</th>\n",
       "      <td>2022-02-03</td>\n",
       "      <td>1779.000000</td>\n",
       "      <td>1779.000000</td>\n",
       "      <td>1734.000000</td>\n",
       "      <td>1738.550049</td>\n",
       "    </tr>\n",
       "    <tr>\n",
       "      <th>3</th>\n",
       "      <td>2022-02-04</td>\n",
       "      <td>1732.000000</td>\n",
       "      <td>1753.949951</td>\n",
       "      <td>1710.150024</td>\n",
       "      <td>1741.099976</td>\n",
       "    </tr>\n",
       "    <tr>\n",
       "      <th>4</th>\n",
       "      <td>2022-02-07</td>\n",
       "      <td>1722.199951</td>\n",
       "      <td>1732.000000</td>\n",
       "      <td>1695.400024</td>\n",
       "      <td>1715.000000</td>\n",
       "    </tr>\n",
       "    <tr>\n",
       "      <th>...</th>\n",
       "      <td>...</td>\n",
       "      <td>...</td>\n",
       "      <td>...</td>\n",
       "      <td>...</td>\n",
       "      <td>...</td>\n",
       "    </tr>\n",
       "    <tr>\n",
       "      <th>245</th>\n",
       "      <td>2023-01-25</td>\n",
       "      <td>1547.000000</td>\n",
       "      <td>1556.000000</td>\n",
       "      <td>1538.750000</td>\n",
       "      <td>1543.000000</td>\n",
       "    </tr>\n",
       "    <tr>\n",
       "      <th>246</th>\n",
       "      <td>2023-01-27</td>\n",
       "      <td>1546.000000</td>\n",
       "      <td>1550.949951</td>\n",
       "      <td>1507.400024</td>\n",
       "      <td>1519.150024</td>\n",
       "    </tr>\n",
       "    <tr>\n",
       "      <th>247</th>\n",
       "      <td>2023-01-30</td>\n",
       "      <td>1528.800049</td>\n",
       "      <td>1544.000000</td>\n",
       "      <td>1520.000000</td>\n",
       "      <td>1538.800049</td>\n",
       "    </tr>\n",
       "    <tr>\n",
       "      <th>248</th>\n",
       "      <td>2023-01-31</td>\n",
       "      <td>NaN</td>\n",
       "      <td>NaN</td>\n",
       "      <td>NaN</td>\n",
       "      <td>NaN</td>\n",
       "    </tr>\n",
       "    <tr>\n",
       "      <th>249</th>\n",
       "      <td>2023-02-01</td>\n",
       "      <td>1542.199951</td>\n",
       "      <td>1555.050049</td>\n",
       "      <td>1528.050049</td>\n",
       "      <td>1551.099976</td>\n",
       "    </tr>\n",
       "  </tbody>\n",
       "</table>\n",
       "<p>250 rows × 5 columns</p>\n",
       "</div>"
      ],
      "text/plain": [
       "           Date         Open         High          Low        Close\n",
       "0    2022-02-01  1766.099976  1780.000000  1734.699951  1772.050049\n",
       "1    2022-02-02  1789.000000  1792.800049  1772.000000  1787.099976\n",
       "2    2022-02-03  1779.000000  1779.000000  1734.000000  1738.550049\n",
       "3    2022-02-04  1732.000000  1753.949951  1710.150024  1741.099976\n",
       "4    2022-02-07  1722.199951  1732.000000  1695.400024  1715.000000\n",
       "..          ...          ...          ...          ...          ...\n",
       "245  2023-01-25  1547.000000  1556.000000  1538.750000  1543.000000\n",
       "246  2023-01-27  1546.000000  1550.949951  1507.400024  1519.150024\n",
       "247  2023-01-30  1528.800049  1544.000000  1520.000000  1538.800049\n",
       "248  2023-01-31          NaN          NaN          NaN          NaN\n",
       "249  2023-02-01  1542.199951  1555.050049  1528.050049  1551.099976\n",
       "\n",
       "[250 rows x 5 columns]"
      ]
     },
     "execution_count": 90,
     "metadata": {},
     "output_type": "execute_result"
    }
   ],
   "source": [
    "infy_new=infy.drop(['Adj Close','Volume'],axis=1)\n",
    "infy_new"
   ]
  },
  {
   "cell_type": "code",
   "execution_count": 93,
   "id": "d2b7dd73",
   "metadata": {},
   "outputs": [
    {
     "data": {
      "text/html": [
       "<div>\n",
       "<style scoped>\n",
       "    .dataframe tbody tr th:only-of-type {\n",
       "        vertical-align: middle;\n",
       "    }\n",
       "\n",
       "    .dataframe tbody tr th {\n",
       "        vertical-align: top;\n",
       "    }\n",
       "\n",
       "    .dataframe thead th {\n",
       "        text-align: right;\n",
       "    }\n",
       "</style>\n",
       "<table border=\"1\" class=\"dataframe\">\n",
       "  <thead>\n",
       "    <tr style=\"text-align: right;\">\n",
       "      <th></th>\n",
       "      <th>Date</th>\n",
       "      <th>Open</th>\n",
       "      <th>High</th>\n",
       "      <th>Low</th>\n",
       "      <th>Close</th>\n",
       "    </tr>\n",
       "  </thead>\n",
       "  <tbody>\n",
       "    <tr>\n",
       "      <th>0</th>\n",
       "      <td>2022-02-01</td>\n",
       "      <td>1766.099976</td>\n",
       "      <td>1780.000000</td>\n",
       "      <td>1734.699951</td>\n",
       "      <td>1772.050049</td>\n",
       "    </tr>\n",
       "    <tr>\n",
       "      <th>1</th>\n",
       "      <td>2022-02-02</td>\n",
       "      <td>1789.000000</td>\n",
       "      <td>1792.800049</td>\n",
       "      <td>1772.000000</td>\n",
       "      <td>1787.099976</td>\n",
       "    </tr>\n",
       "    <tr>\n",
       "      <th>4</th>\n",
       "      <td>2022-02-07</td>\n",
       "      <td>1722.199951</td>\n",
       "      <td>1732.000000</td>\n",
       "      <td>1695.400024</td>\n",
       "      <td>1715.000000</td>\n",
       "    </tr>\n",
       "    <tr>\n",
       "      <th>5</th>\n",
       "      <td>2022-02-08</td>\n",
       "      <td>1710.000000</td>\n",
       "      <td>1725.000000</td>\n",
       "      <td>1696.000000</td>\n",
       "      <td>1717.300049</td>\n",
       "    </tr>\n",
       "    <tr>\n",
       "      <th>6</th>\n",
       "      <td>2022-02-09</td>\n",
       "      <td>1735.000000</td>\n",
       "      <td>1743.000000</td>\n",
       "      <td>1725.000000</td>\n",
       "      <td>1737.300049</td>\n",
       "    </tr>\n",
       "  </tbody>\n",
       "</table>\n",
       "</div>"
      ],
      "text/plain": [
       "         Date         Open         High          Low        Close\n",
       "0  2022-02-01  1766.099976  1780.000000  1734.699951  1772.050049\n",
       "1  2022-02-02  1789.000000  1792.800049  1772.000000  1787.099976\n",
       "4  2022-02-07  1722.199951  1732.000000  1695.400024  1715.000000\n",
       "5  2022-02-08  1710.000000  1725.000000  1696.000000  1717.300049\n",
       "6  2022-02-09  1735.000000  1743.000000  1725.000000  1737.300049"
      ]
     },
     "execution_count": 93,
     "metadata": {},
     "output_type": "execute_result"
    }
   ],
   "source": [
    "infy_new.drop(infy_new.index[[2,3]]).head()"
   ]
  },
  {
   "cell_type": "code",
   "execution_count": 99,
   "id": "fc4e7038",
   "metadata": {},
   "outputs": [
    {
     "data": {
      "text/html": [
       "<div>\n",
       "<style scoped>\n",
       "    .dataframe tbody tr th:only-of-type {\n",
       "        vertical-align: middle;\n",
       "    }\n",
       "\n",
       "    .dataframe tbody tr th {\n",
       "        vertical-align: top;\n",
       "    }\n",
       "\n",
       "    .dataframe thead th {\n",
       "        text-align: right;\n",
       "    }\n",
       "</style>\n",
       "<table border=\"1\" class=\"dataframe\">\n",
       "  <thead>\n",
       "    <tr style=\"text-align: right;\">\n",
       "      <th></th>\n",
       "      <th>Date</th>\n",
       "      <th>Open</th>\n",
       "      <th>High</th>\n",
       "      <th>Low</th>\n",
       "      <th>Close</th>\n",
       "    </tr>\n",
       "  </thead>\n",
       "  <tbody>\n",
       "    <tr>\n",
       "      <th>31</th>\n",
       "      <td>2022-03-17</td>\n",
       "      <td>1923.300049</td>\n",
       "      <td>1923.300049</td>\n",
       "      <td>1833.050049</td>\n",
       "      <td>1854.599976</td>\n",
       "    </tr>\n",
       "    <tr>\n",
       "      <th>39</th>\n",
       "      <td>2022-03-30</td>\n",
       "      <td>1910.000000</td>\n",
       "      <td>1919.000000</td>\n",
       "      <td>1895.000000</td>\n",
       "      <td>1903.949951</td>\n",
       "    </tr>\n",
       "    <tr>\n",
       "      <th>40</th>\n",
       "      <td>2022-03-31</td>\n",
       "      <td>1900.000000</td>\n",
       "      <td>1913.000000</td>\n",
       "      <td>1894.199951</td>\n",
       "      <td>1906.849976</td>\n",
       "    </tr>\n",
       "    <tr>\n",
       "      <th>34</th>\n",
       "      <td>2022-03-23</td>\n",
       "      <td>1897.000000</td>\n",
       "      <td>1900.000000</td>\n",
       "      <td>1857.000000</td>\n",
       "      <td>1872.400024</td>\n",
       "    </tr>\n",
       "    <tr>\n",
       "      <th>36</th>\n",
       "      <td>2022-03-25</td>\n",
       "      <td>1892.000000</td>\n",
       "      <td>1894.000000</td>\n",
       "      <td>1858.000000</td>\n",
       "      <td>1876.550049</td>\n",
       "    </tr>\n",
       "    <tr>\n",
       "      <th>...</th>\n",
       "      <td>...</td>\n",
       "      <td>...</td>\n",
       "      <td>...</td>\n",
       "      <td>...</td>\n",
       "      <td>...</td>\n",
       "    </tr>\n",
       "    <tr>\n",
       "      <th>163</th>\n",
       "      <td>2022-09-28</td>\n",
       "      <td>1379.000000</td>\n",
       "      <td>1405.849976</td>\n",
       "      <td>1377.000000</td>\n",
       "      <td>1394.699951</td>\n",
       "    </tr>\n",
       "    <tr>\n",
       "      <th>160</th>\n",
       "      <td>2022-09-23</td>\n",
       "      <td>1367.500000</td>\n",
       "      <td>1394.800049</td>\n",
       "      <td>1362.000000</td>\n",
       "      <td>1365.449951</td>\n",
       "    </tr>\n",
       "    <tr>\n",
       "      <th>159</th>\n",
       "      <td>2022-09-22</td>\n",
       "      <td>1366.349976</td>\n",
       "      <td>1383.949951</td>\n",
       "      <td>1360.000000</td>\n",
       "      <td>1367.949951</td>\n",
       "    </tr>\n",
       "    <tr>\n",
       "      <th>161</th>\n",
       "      <td>2022-09-26</td>\n",
       "      <td>1360.000000</td>\n",
       "      <td>1399.449951</td>\n",
       "      <td>1355.000000</td>\n",
       "      <td>1380.250000</td>\n",
       "    </tr>\n",
       "    <tr>\n",
       "      <th>248</th>\n",
       "      <td>2023-01-31</td>\n",
       "      <td>NaN</td>\n",
       "      <td>NaN</td>\n",
       "      <td>NaN</td>\n",
       "      <td>NaN</td>\n",
       "    </tr>\n",
       "  </tbody>\n",
       "</table>\n",
       "<p>250 rows × 5 columns</p>\n",
       "</div>"
      ],
      "text/plain": [
       "           Date         Open         High          Low        Close\n",
       "31   2022-03-17  1923.300049  1923.300049  1833.050049  1854.599976\n",
       "39   2022-03-30  1910.000000  1919.000000  1895.000000  1903.949951\n",
       "40   2022-03-31  1900.000000  1913.000000  1894.199951  1906.849976\n",
       "34   2022-03-23  1897.000000  1900.000000  1857.000000  1872.400024\n",
       "36   2022-03-25  1892.000000  1894.000000  1858.000000  1876.550049\n",
       "..          ...          ...          ...          ...          ...\n",
       "163  2022-09-28  1379.000000  1405.849976  1377.000000  1394.699951\n",
       "160  2022-09-23  1367.500000  1394.800049  1362.000000  1365.449951\n",
       "159  2022-09-22  1366.349976  1383.949951  1360.000000  1367.949951\n",
       "161  2022-09-26  1360.000000  1399.449951  1355.000000  1380.250000\n",
       "248  2023-01-31          NaN          NaN          NaN          NaN\n",
       "\n",
       "[250 rows x 5 columns]"
      ]
     },
     "execution_count": 99,
     "metadata": {},
     "output_type": "execute_result"
    }
   ],
   "source": [
    "infy_sort =infy_new.sort_values(by=\"Open\", ascending=False)\n",
    "infy_sort"
   ]
  },
  {
   "cell_type": "code",
   "execution_count": 100,
   "id": "ef66cc0f",
   "metadata": {},
   "outputs": [
    {
     "data": {
      "text/html": [
       "<div>\n",
       "<style scoped>\n",
       "    .dataframe tbody tr th:only-of-type {\n",
       "        vertical-align: middle;\n",
       "    }\n",
       "\n",
       "    .dataframe tbody tr th {\n",
       "        vertical-align: top;\n",
       "    }\n",
       "\n",
       "    .dataframe thead th {\n",
       "        text-align: right;\n",
       "    }\n",
       "</style>\n",
       "<table border=\"1\" class=\"dataframe\">\n",
       "  <thead>\n",
       "    <tr style=\"text-align: right;\">\n",
       "      <th></th>\n",
       "      <th>Date</th>\n",
       "      <th>Open</th>\n",
       "      <th>High</th>\n",
       "      <th>Low</th>\n",
       "      <th>Close</th>\n",
       "    </tr>\n",
       "  </thead>\n",
       "  <tbody>\n",
       "    <tr>\n",
       "      <th>0</th>\n",
       "      <td>2022-02-01</td>\n",
       "      <td>1766.099976</td>\n",
       "      <td>1780.000000</td>\n",
       "      <td>1734.699951</td>\n",
       "      <td>1772.050049</td>\n",
       "    </tr>\n",
       "    <tr>\n",
       "      <th>1</th>\n",
       "      <td>2022-02-02</td>\n",
       "      <td>1789.000000</td>\n",
       "      <td>1792.800049</td>\n",
       "      <td>1772.000000</td>\n",
       "      <td>1787.099976</td>\n",
       "    </tr>\n",
       "    <tr>\n",
       "      <th>2</th>\n",
       "      <td>2022-02-03</td>\n",
       "      <td>1779.000000</td>\n",
       "      <td>1779.000000</td>\n",
       "      <td>1734.000000</td>\n",
       "      <td>1738.550049</td>\n",
       "    </tr>\n",
       "    <tr>\n",
       "      <th>3</th>\n",
       "      <td>2022-02-04</td>\n",
       "      <td>1732.000000</td>\n",
       "      <td>1753.949951</td>\n",
       "      <td>1710.150024</td>\n",
       "      <td>1741.099976</td>\n",
       "    </tr>\n",
       "    <tr>\n",
       "      <th>4</th>\n",
       "      <td>2022-02-07</td>\n",
       "      <td>1722.199951</td>\n",
       "      <td>1732.000000</td>\n",
       "      <td>1695.400024</td>\n",
       "      <td>1715.000000</td>\n",
       "    </tr>\n",
       "  </tbody>\n",
       "</table>\n",
       "</div>"
      ],
      "text/plain": [
       "         Date         Open         High          Low        Close\n",
       "0  2022-02-01  1766.099976  1780.000000  1734.699951  1772.050049\n",
       "1  2022-02-02  1789.000000  1792.800049  1772.000000  1787.099976\n",
       "2  2022-02-03  1779.000000  1779.000000  1734.000000  1738.550049\n",
       "3  2022-02-04  1732.000000  1753.949951  1710.150024  1741.099976\n",
       "4  2022-02-07  1722.199951  1732.000000  1695.400024  1715.000000"
      ]
     },
     "execution_count": 100,
     "metadata": {},
     "output_type": "execute_result"
    }
   ],
   "source": [
    "infy_new.head()"
   ]
  },
  {
   "cell_type": "code",
   "execution_count": 101,
   "id": "a40dee1e",
   "metadata": {},
   "outputs": [],
   "source": [
    "infy = pd.read_csv(\"C:\\\\Users\\91878\\\\Downloads\\\\INFY.NS.csv\")"
   ]
  },
  {
   "cell_type": "code",
   "execution_count": 102,
   "id": "36ecef8c",
   "metadata": {},
   "outputs": [
    {
     "data": {
      "text/html": [
       "<div>\n",
       "<style scoped>\n",
       "    .dataframe tbody tr th:only-of-type {\n",
       "        vertical-align: middle;\n",
       "    }\n",
       "\n",
       "    .dataframe tbody tr th {\n",
       "        vertical-align: top;\n",
       "    }\n",
       "\n",
       "    .dataframe thead th {\n",
       "        text-align: right;\n",
       "    }\n",
       "</style>\n",
       "<table border=\"1\" class=\"dataframe\">\n",
       "  <thead>\n",
       "    <tr style=\"text-align: right;\">\n",
       "      <th></th>\n",
       "      <th>Date</th>\n",
       "      <th>Open</th>\n",
       "      <th>High</th>\n",
       "      <th>Low</th>\n",
       "      <th>Close</th>\n",
       "      <th>Adj Close</th>\n",
       "      <th>Volume</th>\n",
       "    </tr>\n",
       "  </thead>\n",
       "  <tbody>\n",
       "    <tr>\n",
       "      <th>0</th>\n",
       "      <td>2022-02-01</td>\n",
       "      <td>1766.099976</td>\n",
       "      <td>1780.000000</td>\n",
       "      <td>1734.699951</td>\n",
       "      <td>1772.050049</td>\n",
       "      <td>1734.524048</td>\n",
       "      <td>5119935.0</td>\n",
       "    </tr>\n",
       "    <tr>\n",
       "      <th>1</th>\n",
       "      <td>2022-02-02</td>\n",
       "      <td>1789.000000</td>\n",
       "      <td>1792.800049</td>\n",
       "      <td>1772.000000</td>\n",
       "      <td>1787.099976</td>\n",
       "      <td>1749.255249</td>\n",
       "      <td>4253717.0</td>\n",
       "    </tr>\n",
       "    <tr>\n",
       "      <th>2</th>\n",
       "      <td>2022-02-03</td>\n",
       "      <td>1779.000000</td>\n",
       "      <td>1779.000000</td>\n",
       "      <td>1734.000000</td>\n",
       "      <td>1738.550049</td>\n",
       "      <td>1701.733521</td>\n",
       "      <td>3832922.0</td>\n",
       "    </tr>\n",
       "    <tr>\n",
       "      <th>3</th>\n",
       "      <td>2022-02-04</td>\n",
       "      <td>1732.000000</td>\n",
       "      <td>1753.949951</td>\n",
       "      <td>1710.150024</td>\n",
       "      <td>1741.099976</td>\n",
       "      <td>1704.229370</td>\n",
       "      <td>4700077.0</td>\n",
       "    </tr>\n",
       "    <tr>\n",
       "      <th>4</th>\n",
       "      <td>2022-02-07</td>\n",
       "      <td>1722.199951</td>\n",
       "      <td>1732.000000</td>\n",
       "      <td>1695.400024</td>\n",
       "      <td>1715.000000</td>\n",
       "      <td>1678.682129</td>\n",
       "      <td>4310209.0</td>\n",
       "    </tr>\n",
       "  </tbody>\n",
       "</table>\n",
       "</div>"
      ],
      "text/plain": [
       "         Date         Open         High          Low        Close  \\\n",
       "0  2022-02-01  1766.099976  1780.000000  1734.699951  1772.050049   \n",
       "1  2022-02-02  1789.000000  1792.800049  1772.000000  1787.099976   \n",
       "2  2022-02-03  1779.000000  1779.000000  1734.000000  1738.550049   \n",
       "3  2022-02-04  1732.000000  1753.949951  1710.150024  1741.099976   \n",
       "4  2022-02-07  1722.199951  1732.000000  1695.400024  1715.000000   \n",
       "\n",
       "     Adj Close     Volume  \n",
       "0  1734.524048  5119935.0  \n",
       "1  1749.255249  4253717.0  \n",
       "2  1701.733521  3832922.0  \n",
       "3  1704.229370  4700077.0  \n",
       "4  1678.682129  4310209.0  "
      ]
     },
     "execution_count": 102,
     "metadata": {},
     "output_type": "execute_result"
    }
   ],
   "source": [
    "infy.head()"
   ]
  },
  {
   "cell_type": "code",
   "execution_count": 103,
   "id": "be7d046e",
   "metadata": {},
   "outputs": [
    {
     "name": "stdout",
     "output_type": "stream",
     "text": [
      "Date         250\n",
      "Open         249\n",
      "High         249\n",
      "Low          249\n",
      "Close        249\n",
      "Adj Close    249\n",
      "Volume       249\n",
      "dtype: int64\n"
     ]
    }
   ],
   "source": [
    "print(infy.count())"
   ]
  },
  {
   "cell_type": "code",
   "execution_count": 105,
   "id": "cfc66172",
   "metadata": {},
   "outputs": [
    {
     "name": "stdout",
     "output_type": "stream",
     "text": [
      "249\n"
     ]
    }
   ],
   "source": [
    "print(infy[\"Close\"].count())"
   ]
  },
  {
   "cell_type": "code",
   "execution_count": 106,
   "id": "d91c1737",
   "metadata": {},
   "outputs": [
    {
     "name": "stdout",
     "output_type": "stream",
     "text": [
      "Date          2022-02-01\n",
      "Open              1360.0\n",
      "High         1383.949951\n",
      "Low               1355.0\n",
      "Close        1365.449951\n",
      "Adj Close    1350.688843\n",
      "Volume          982837.0\n",
      "dtype: object\n"
     ]
    }
   ],
   "source": [
    "print(infy.min())"
   ]
  },
  {
   "cell_type": "code",
   "execution_count": 108,
   "id": "a0f265d3",
   "metadata": {},
   "outputs": [
    {
     "name": "stdout",
     "output_type": "stream",
     "text": [
      "1526.800049\n"
     ]
    }
   ],
   "source": [
    "print(infy[\"Close\"].median())"
   ]
  },
  {
   "cell_type": "code",
   "execution_count": 110,
   "id": "acc4ac66",
   "metadata": {},
   "outputs": [
    {
     "name": "stdout",
     "output_type": "stream",
     "text": [
      "0    1455.150024\n",
      "1    1503.599976\n",
      "Name: Close, dtype: float64\n"
     ]
    }
   ],
   "source": [
    "print(infy[\"Close\"].mode())"
   ]
  },
  {
   "cell_type": "code",
   "execution_count": 112,
   "id": "19503f3b",
   "metadata": {},
   "outputs": [
    {
     "name": "stdout",
     "output_type": "stream",
     "text": [
      "1611794400.0\n"
     ]
    }
   ],
   "source": [
    "print(infy[\"Volume\"].sum())"
   ]
  },
  {
   "cell_type": "code",
   "execution_count": 113,
   "id": "c2e6740b",
   "metadata": {},
   "outputs": [
    {
     "data": {
      "image/png": "[encoded data removed]",
      "text/plain": [
       "<Figure size 720x360 with 1 Axes>"
      ]
     },
     "metadata": {},
     "output_type": "display_data"
    }
   ],
   "source": [
    "import matplotlib.pyplot as plt\n",
    "%matplotlib inline\n",
    "plt.style.use('seaborn-darkgrid') \n",
    "\n",
    "plt.figure(figsize=(10, 5))\n",
    "plt.ylabel('Daily returns of Infosys')\n",
    "infy[\"Close\"].pct_change().plot()\n",
    "plt.show()"
   ]
  },
  {
   "cell_type": "code",
   "execution_count": 115,
   "id": "761d28de",
   "metadata": {},
   "outputs": [
    {
     "data": {
      "image/png": "[encoded data removed]",
      "text/plain": [
       "<Figure size 720x360 with 1 Axes>"
      ]
     },
     "metadata": {},
     "output_type": "display_data"
    }
   ],
   "source": [
    "plt.figure(figsize=(10, 5))\n",
    "plt.ylabel('Closing Price')\n",
    "\n",
    "infy[\"Close\"].rolling(window=20).mean().plot()\n",
    "\n",
    "infy[\"Close\"].plot()\n",
    "plt.show()"
   ]
  },
  {
   "cell_type": "code",
   "execution_count": 116,
   "id": "0a33e028",
   "metadata": {},
   "outputs": [
    {
     "name": "stdout",
     "output_type": "stream",
     "text": [
      "0      1772.050049\n",
      "1      1787.099976\n",
      "2      1738.550049\n",
      "3      1741.099976\n",
      "4      1715.000000\n",
      "          ...     \n",
      "245    1543.000000\n",
      "246    1519.150024\n",
      "247    1538.800049\n",
      "248            NaN\n",
      "249    1551.099976\n",
      "Name: Close, Length: 250, dtype: float64\n"
     ]
    }
   ],
   "source": [
    "\n",
    "print(infy.loc[:, 'Close'])"
   ]
  },
  {
   "cell_type": "code",
   "execution_count": 117,
   "id": "a4380539",
   "metadata": {},
   "outputs": [
    {
     "name": "stdout",
     "output_type": "stream",
     "text": [
      "           Close         Open\n",
      "0    1772.050049  1766.099976\n",
      "1    1787.099976  1789.000000\n",
      "2    1738.550049  1779.000000\n",
      "3    1741.099976  1732.000000\n",
      "4    1715.000000  1722.199951\n",
      "..           ...          ...\n",
      "245  1543.000000  1547.000000\n",
      "246  1519.150024  1546.000000\n",
      "247  1538.800049  1528.800049\n",
      "248          NaN          NaN\n",
      "249  1551.099976  1542.199951\n",
      "\n",
      "[250 rows x 2 columns]\n"
     ]
    }
   ],
   "source": [
    "print(infy.loc[:, ['Close', 'Open']])"
   ]
  },
  {
   "cell_type": "code",
   "execution_count": 118,
   "id": "e6bfcbc4",
   "metadata": {},
   "outputs": [
    {
     "name": "stdout",
     "output_type": "stream",
     "text": [
      "         Date         Open         High          Low        Close  \\\n",
      "2  2022-02-03  1779.000000  1779.000000  1734.000000  1738.550049   \n",
      "3  2022-02-04  1732.000000  1753.949951  1710.150024  1741.099976   \n",
      "4  2022-02-07  1722.199951  1732.000000  1695.400024  1715.000000   \n",
      "5  2022-02-08  1710.000000  1725.000000  1696.000000  1717.300049   \n",
      "6  2022-02-09  1735.000000  1743.000000  1725.000000  1737.300049   \n",
      "7  2022-02-10  1755.650024  1773.900024  1748.750000  1769.599976   \n",
      "\n",
      "     Adj Close     Volume  \n",
      "2  1701.733521  3832922.0  \n",
      "3  1704.229370  4700077.0  \n",
      "4  1678.682129  4310209.0  \n",
      "5  1680.933472  6053401.0  \n",
      "6  1700.509888  3867244.0  \n",
      "7  1732.125854  4334630.0  \n"
     ]
    }
   ],
   "source": [
    "print(infy.loc[2:7])"
   ]
  },
  {
   "cell_type": "code",
   "execution_count": 120,
   "id": "9f744109",
   "metadata": {},
   "outputs": [
    {
     "name": "stdout",
     "output_type": "stream",
     "text": [
      "         Date         Open         High          Low        Close  \\\n",
      "0  2022-02-01  1766.099976  1780.000000  1734.699951  1772.050049   \n",
      "1  2022-02-02  1789.000000  1792.800049  1772.000000  1787.099976   \n",
      "2  2022-02-03  1779.000000  1779.000000  1734.000000  1738.550049   \n",
      "3  2022-02-04  1732.000000  1753.949951  1710.150024  1741.099976   \n",
      "\n",
      "     Adj Close     Volume  \n",
      "0  1734.524048  5119935.0  \n",
      "1  1749.255249  4253717.0  \n",
      "2  1701.733521  3832922.0  \n",
      "3  1704.229370  4700077.0  \n"
     ]
    }
   ],
   "source": [
    "print(infy.iloc[:4])"
   ]
  },
  {
   "cell_type": "code",
   "execution_count": 122,
   "id": "4d3160b7",
   "metadata": {},
   "outputs": [
    {
     "name": "stdout",
     "output_type": "stream",
     "text": [
      "0      False\n",
      "1      False\n",
      "2      False\n",
      "3      False\n",
      "4      False\n",
      "       ...  \n",
      "245    False\n",
      "246    False\n",
      "247    False\n",
      "248     True\n",
      "249    False\n",
      "Name: Close, Length: 250, dtype: bool\n"
     ]
    }
   ],
   "source": [
    "print(infy['Close'].isnull())"
   ]
  },
  {
   "cell_type": "code",
   "execution_count": 123,
   "id": "743e5c87",
   "metadata": {},
   "outputs": [
    {
     "name": "stdout",
     "output_type": "stream",
     "text": [
      "      Date   Open   High    Low  Close  Adj Close  Volume\n",
      "0    False  False  False  False  False      False   False\n",
      "1    False  False  False  False  False      False   False\n",
      "2    False  False  False  False  False      False   False\n",
      "3    False  False  False  False  False      False   False\n",
      "4    False  False  False  False  False      False   False\n",
      "..     ...    ...    ...    ...    ...        ...     ...\n",
      "245  False  False  False  False  False      False   False\n",
      "246  False  False  False  False  False      False   False\n",
      "247  False  False  False  False  False      False   False\n",
      "248  False   True   True   True   True       True    True\n",
      "249  False  False  False  False  False      False   False\n",
      "\n",
      "[250 rows x 7 columns]\n"
     ]
    }
   ],
   "source": [
    "print(infy.isnull())"
   ]
  },
  {
   "cell_type": "code",
   "execution_count": 125,
   "id": "22cd9e5f",
   "metadata": {},
   "outputs": [
    {
     "name": "stdout",
     "output_type": "stream",
     "text": [
      "0       True\n",
      "1       True\n",
      "2       True\n",
      "3       True\n",
      "4       True\n",
      "       ...  \n",
      "245     True\n",
      "246     True\n",
      "247     True\n",
      "248    False\n",
      "249     True\n",
      "Name: Close, Length: 250, dtype: bool\n"
     ]
    }
   ],
   "source": [
    "print(infy['Close'].notnull())"
   ]
  },
  {
   "cell_type": "code",
   "execution_count": 126,
   "id": "dc4f12ac",
   "metadata": {},
   "outputs": [
    {
     "name": "stdout",
     "output_type": "stream",
     "text": [
      "           Date         Open         High          Low        Close  \\\n",
      "0    2022-02-01  1766.099976  1780.000000  1734.699951  1772.050049   \n",
      "1    2022-02-02  1789.000000  1792.800049  1772.000000  1787.099976   \n",
      "2    2022-02-03  1779.000000  1779.000000  1734.000000  1738.550049   \n",
      "3    2022-02-04  1732.000000  1753.949951  1710.150024  1741.099976   \n",
      "4    2022-02-07  1722.199951  1732.000000  1695.400024  1715.000000   \n",
      "..          ...          ...          ...          ...          ...   \n",
      "245  2023-01-25  1547.000000  1556.000000  1538.750000  1543.000000   \n",
      "246  2023-01-27  1546.000000  1550.949951  1507.400024  1519.150024   \n",
      "247  2023-01-30  1528.800049  1544.000000  1520.000000  1538.800049   \n",
      "248  2023-01-31  1000.000000  1000.000000  1000.000000  1000.000000   \n",
      "249  2023-02-01  1542.199951  1555.050049  1528.050049  1551.099976   \n",
      "\n",
      "       Adj Close     Volume  \n",
      "0    1734.524048  5119935.0  \n",
      "1    1749.255249  4253717.0  \n",
      "2    1701.733521  3832922.0  \n",
      "3    1704.229370  4700077.0  \n",
      "4    1678.682129  4310209.0  \n",
      "..           ...        ...  \n",
      "245  1543.000000  4158617.0  \n",
      "246  1519.150024  6209955.0  \n",
      "247  1538.800049  6964719.0  \n",
      "248  1000.000000     1000.0  \n",
      "249  1551.099976  6193725.0  \n",
      "\n",
      "[250 rows x 7 columns]\n"
     ]
    }
   ],
   "source": [
    "print(infy.fillna(1000))"
   ]
  },
  {
   "cell_type": "code",
   "execution_count": 127,
   "id": "76c0c7cf",
   "metadata": {},
   "outputs": [
    {
     "name": "stdout",
     "output_type": "stream",
     "text": [
      "           Date         Open         High          Low        Close  \\\n",
      "0    2022-02-01  1766.099976  1780.000000  1734.699951  1772.050049   \n",
      "1    2022-02-02  1789.000000  1792.800049  1772.000000  1787.099976   \n",
      "2    2022-02-03  1779.000000  1779.000000  1734.000000  1738.550049   \n",
      "3    2022-02-04  1732.000000  1753.949951  1710.150024  1741.099976   \n",
      "4    2022-02-07  1722.199951  1732.000000  1695.400024  1715.000000   \n",
      "..          ...          ...          ...          ...          ...   \n",
      "245  2023-01-25  1547.000000  1556.000000  1538.750000  1543.000000   \n",
      "246  2023-01-27  1546.000000  1550.949951  1507.400024  1519.150024   \n",
      "247  2023-01-30  1528.800049  1544.000000  1520.000000  1538.800049   \n",
      "248  2023-01-31  1542.199951  1555.050049  1528.050049  1551.099976   \n",
      "249  2023-02-01  1542.199951  1555.050049  1528.050049  1551.099976   \n",
      "\n",
      "       Adj Close     Volume  \n",
      "0    1734.524048  5119935.0  \n",
      "1    1749.255249  4253717.0  \n",
      "2    1701.733521  3832922.0  \n",
      "3    1704.229370  4700077.0  \n",
      "4    1678.682129  4310209.0  \n",
      "..           ...        ...  \n",
      "245  1543.000000  4158617.0  \n",
      "246  1519.150024  6209955.0  \n",
      "247  1538.800049  6964719.0  \n",
      "248  1551.099976  6193725.0  \n",
      "249  1551.099976  6193725.0  \n",
      "\n",
      "[250 rows x 7 columns]\n"
     ]
    }
   ],
   "source": [
    "print(infy.fillna(method='backfill'))"
   ]
  },
  {
   "cell_type": "code",
   "execution_count": 128,
   "id": "d48af851",
   "metadata": {},
   "outputs": [
    {
     "name": "stdout",
     "output_type": "stream",
     "text": [
      "0      1772.050049\n",
      "1      1787.099976\n",
      "2      1738.550049\n",
      "3      1741.099976\n",
      "4      1715.000000\n",
      "          ...     \n",
      "245    1543.000000\n",
      "246    1519.150024\n",
      "247    1538.800049\n",
      "248            NaN\n",
      "249    1551.099976\n",
      "Name: Close, Length: 250, dtype: float64\n"
     ]
    }
   ],
   "source": [
    "print(infy['Close'].replace({1147.55: 3000}))"
   ]
  },
  {
   "cell_type": "code",
   "execution_count": null,
   "id": "c2ae1ce4",
   "metadata": {},
   "outputs": [],
   "source": []
  }
 ],
 "metadata": {
  "kernelspec": {
   "display_name": "Python 3 (ipykernel)",
   "language": "python",
   "name": "python3"
  },
  "language_info": {
   "codemirror_mode": {
    "name": "ipython",
    "version": 3
   },
   "file_extension": ".py",
   "mimetype": "text/x-python",
   "name": "python",
   "nbconvert_exporter": "python",
   "pygments_lexer": "ipython3",
   "version": "3.9.12"
  }
 },
 "nbformat": 4,
 "nbformat_minor": 5
}
